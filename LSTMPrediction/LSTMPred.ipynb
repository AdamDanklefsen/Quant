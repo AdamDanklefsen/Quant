{
 "cells": [
  {
   "cell_type": "markdown",
   "id": "fd3846ef",
   "metadata": {},
   "source": [
    "# Simple RNN\n",
    "$$ h_t = \\sigma(Wx_t + Uh_{t-1} + b) $$"
   ]
  },
  {
   "cell_type": "code",
   "execution_count": null,
   "id": "e27e913f",
   "metadata": {},
   "outputs": [
    {
     "name": "stdout",
     "output_type": "stream",
     "text": [
      "RNN module is working correctly.\n"
     ]
    }
   ],
   "source": [
    "import numpy as np\n",
    "import torch\n",
    "import pandas as pd\n",
    "import yfinance as yf\n",
    "import matplotlib.pyplot as plt\n",
    "\n",
    "from Quant.RNN import RNN\n",
    "\n",
    "# Call the test function\n",
    "RNN.test()"
   ]
  }
 ],
 "metadata": {
  "kernelspec": {
   "display_name": "Python 3",
   "language": "python",
   "name": "python3"
  },
  "language_info": {
   "codemirror_mode": {
    "name": "ipython",
    "version": 3
   },
   "file_extension": ".py",
   "mimetype": "text/x-python",
   "name": "python",
   "nbconvert_exporter": "python",
   "pygments_lexer": "ipython3",
   "version": "3.13.7"
  }
 },
 "nbformat": 4,
 "nbformat_minor": 5
}
