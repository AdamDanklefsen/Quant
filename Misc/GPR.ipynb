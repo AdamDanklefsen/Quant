{
 "cells": [
  {
   "cell_type": "markdown",
   "id": "a06767c3",
   "metadata": {},
   "source": [
    "This notebook performs Gaussian Process Regression\n",
    "\n",
    "Training Inputs $\\bold{x}_T = \\{x_0, x_1, ..., x_n\\}$\n",
    "\n",
    "Training Outputs $\\bold{y}_T = \\{y_0, y_1, ..., y_n\\}$\n",
    "\n",
    "Test Inputs $\\bold{x_*} = \\{x_{*_0}, x_{*_1}, ..., x_{*_n}\\}$\n",
    "\n",
    "Observation Noise: $\\bold{y} = \\bold{f} + \\epsilon, \\epsilon \\sim \\mathscr{N}(0,\\sigma_n^2)$\n",
    "\n",
    "Kernel Function $k(a,b) = \\sigma_f^2\\exp(-|a-b|^2)$\n",
    "\n",
    "Posterior Mean: $\\mu = f_0 + K_{xx}(K_{xx}+\\sigma_n^2I)^{-1}(y-f_0)$\n",
    "\n",
    "Posterior Covariance: $\\Sigma = K_{xx} - K_{xx}(K_{xx}+\\sigma_n^2I)^{-1}K_{xx}$\n",
    "\n",
    "Predictive Mean: $\\mu_* = f_{0_*} + K_{*x}(K_{xx}+\\sigma_n^2I)^{-1}(y-f_0)$\n",
    "\n",
    "Predictive Covariance: $\\Sigma_* = K_{**} - K_{*x}(K_{xx}+\\sigma_n^2I)^{-1}K_{x*}$\n"
   ]
  },
  {
   "cell_type": "code",
   "execution_count": 81,
   "id": "14cf9baa",
   "metadata": {},
   "outputs": [],
   "source": [
    "import streamlit as st\n",
    "import plotly.graph_objects as go\n",
    "import plotly.express as px\n",
    "import numpy as np"
   ]
  },
  {
   "cell_type": "markdown",
   "id": "7b15a2c7",
   "metadata": {},
   "source": [
    "Data Input"
   ]
  },
  {
   "cell_type": "code",
   "execution_count": 82,
   "id": "f5e6083e",
   "metadata": {},
   "outputs": [
    {
     "data": {
      "application/vnd.plotly.v1+json": {
       "config": {
        "plotlyServerURL": "https://plot.ly"
       },
       "data": [
        {
         "hovertemplate": "x=%{x}<br>y=%{y}<extra></extra>",
         "legendgroup": "",
         "marker": {
          "color": "#000001",
          "symbol": "circle"
         },
         "mode": "markers",
         "name": "",
         "orientation": "v",
         "showlegend": false,
         "type": "scatter",
         "x": {
          "bdata": "AAAAAAAA8D8AAAAAAAAAQAAAAAAAAARAAAAAAAAACEAAAAAAAAAQQAAAAAAAABRA",
          "dtype": "f8"
         },
         "xaxis": "x",
         "y": {
          "bdata": "AAMBCAcC",
          "dtype": "i1"
         },
         "yaxis": "y"
        }
       ],
       "layout": {
        "legend": {
         "tracegroupgap": 0
        },
        "margin": {
         "t": 60
        },
        "template": {
         "data": {
          "candlestick": [
           {
            "decreasing": {
             "line": {
              "color": "#000033"
             }
            },
            "increasing": {
             "line": {
              "color": "#000032"
             }
            },
            "type": "candlestick"
           }
          ],
          "contour": [
           {
            "colorscale": [
             [
              0,
              "#000011"
             ],
             [
              0.1111111111111111,
              "#000012"
             ],
             [
              0.2222222222222222,
              "#000013"
             ],
             [
              0.3333333333333333,
              "#000014"
             ],
             [
              0.4444444444444444,
              "#000015"
             ],
             [
              0.5555555555555556,
              "#000016"
             ],
             [
              0.6666666666666666,
              "#000017"
             ],
             [
              0.7777777777777778,
              "#000018"
             ],
             [
              0.8888888888888888,
              "#000019"
             ],
             [
              1,
              "#000020"
             ]
            ],
            "type": "contour"
           }
          ],
          "contourcarpet": [
           {
            "colorscale": [
             [
              0,
              "#000011"
             ],
             [
              0.1111111111111111,
              "#000012"
             ],
             [
              0.2222222222222222,
              "#000013"
             ],
             [
              0.3333333333333333,
              "#000014"
             ],
             [
              0.4444444444444444,
              "#000015"
             ],
             [
              0.5555555555555556,
              "#000016"
             ],
             [
              0.6666666666666666,
              "#000017"
             ],
             [
              0.7777777777777778,
              "#000018"
             ],
             [
              0.8888888888888888,
              "#000019"
             ],
             [
              1,
              "#000020"
             ]
            ],
            "type": "contourcarpet"
           }
          ],
          "heatmap": [
           {
            "colorscale": [
             [
              0,
              "#000011"
             ],
             [
              0.1111111111111111,
              "#000012"
             ],
             [
              0.2222222222222222,
              "#000013"
             ],
             [
              0.3333333333333333,
              "#000014"
             ],
             [
              0.4444444444444444,
              "#000015"
             ],
             [
              0.5555555555555556,
              "#000016"
             ],
             [
              0.6666666666666666,
              "#000017"
             ],
             [
              0.7777777777777778,
              "#000018"
             ],
             [
              0.8888888888888888,
              "#000019"
             ],
             [
              1,
              "#000020"
             ]
            ],
            "type": "heatmap"
           }
          ],
          "histogram2d": [
           {
            "colorscale": [
             [
              0,
              "#000011"
             ],
             [
              0.1111111111111111,
              "#000012"
             ],
             [
              0.2222222222222222,
              "#000013"
             ],
             [
              0.3333333333333333,
              "#000014"
             ],
             [
              0.4444444444444444,
              "#000015"
             ],
             [
              0.5555555555555556,
              "#000016"
             ],
             [
              0.6666666666666666,
              "#000017"
             ],
             [
              0.7777777777777778,
              "#000018"
             ],
             [
              0.8888888888888888,
              "#000019"
             ],
             [
              1,
              "#000020"
             ]
            ],
            "type": "histogram2d"
           }
          ],
          "icicle": [
           {
            "textfont": {
             "color": "white"
            },
            "type": "icicle"
           }
          ],
          "sankey": [
           {
            "textfont": {
             "color": "#000036"
            },
            "type": "sankey"
           }
          ],
          "scatter": [
           {
            "marker": {
             "line": {
              "width": 0
             }
            },
            "type": "scatter"
           }
          ],
          "table": [
           {
            "cells": {
             "fill": {
              "color": "#000038"
             },
             "font": {
              "color": "#000037"
             },
             "line": {
              "color": "#000039"
             }
            },
            "header": {
             "fill": {
              "color": "#000040"
             },
             "font": {
              "color": "#000036"
             },
             "line": {
              "color": "#000039"
             }
            },
            "type": "table"
           }
          ],
          "waterfall": [
           {
            "connector": {
             "line": {
              "color": "#000036",
              "width": 2
             }
            },
            "decreasing": {
             "marker": {
              "color": "#000033"
             }
            },
            "increasing": {
             "marker": {
              "color": "#000032"
             }
            },
            "totals": {
             "marker": {
              "color": "#000034"
             }
            },
            "type": "waterfall"
           }
          ]
         },
         "layout": {
          "coloraxis": {
           "colorscale": [
            [
             0,
             "#000011"
            ],
            [
             0.1111111111111111,
             "#000012"
            ],
            [
             0.2222222222222222,
             "#000013"
            ],
            [
             0.3333333333333333,
             "#000014"
            ],
            [
             0.4444444444444444,
             "#000015"
            ],
            [
             0.5555555555555556,
             "#000016"
            ],
            [
             0.6666666666666666,
             "#000017"
            ],
            [
             0.7777777777777778,
             "#000018"
            ],
            [
             0.8888888888888888,
             "#000019"
            ],
            [
             1,
             "#000020"
            ]
           ]
          },
          "colorscale": {
           "diverging": [
            [
             0,
             "#000021"
            ],
            [
             0.1,
             "#000022"
            ],
            [
             0.2,
             "#000023"
            ],
            [
             0.3,
             "#000024"
            ],
            [
             0.4,
             "#000025"
            ],
            [
             0.5,
             "#000026"
            ],
            [
             0.6,
             "#000027"
            ],
            [
             0.7,
             "#000028"
            ],
            [
             0.8,
             "#000029"
            ],
            [
             0.9,
             "#000030"
            ],
            [
             1,
             "#000031"
            ]
           ],
           "sequential": [
            [
             0,
             "#000011"
            ],
            [
             0.1111111111111111,
             "#000012"
            ],
            [
             0.2222222222222222,
             "#000013"
            ],
            [
             0.3333333333333333,
             "#000014"
            ],
            [
             0.4444444444444444,
             "#000015"
            ],
            [
             0.5555555555555556,
             "#000016"
            ],
            [
             0.6666666666666666,
             "#000017"
            ],
            [
             0.7777777777777778,
             "#000018"
            ],
            [
             0.8888888888888888,
             "#000019"
            ],
            [
             1,
             "#000020"
            ]
           ],
           "sequentialminus": [
            [
             0,
             "#000011"
            ],
            [
             0.1111111111111111,
             "#000012"
            ],
            [
             0.2222222222222222,
             "#000013"
            ],
            [
             0.3333333333333333,
             "#000014"
            ],
            [
             0.4444444444444444,
             "#000015"
            ],
            [
             0.5555555555555556,
             "#000016"
            ],
            [
             0.6666666666666666,
             "#000017"
            ],
            [
             0.7777777777777778,
             "#000018"
            ],
            [
             0.8888888888888888,
             "#000019"
            ],
            [
             1,
             "#000020"
            ]
           ]
          },
          "colorway": [
           "#000001",
           "#000002",
           "#000003",
           "#000004",
           "#000005",
           "#000006",
           "#000007",
           "#000008",
           "#000009",
           "#000010"
          ]
         }
        },
        "xaxis": {
         "anchor": "y",
         "domain": [
          0,
          1
         ],
         "title": {
          "text": "x"
         }
        },
        "yaxis": {
         "anchor": "x",
         "domain": [
          0,
          1
         ],
         "title": {
          "text": "y"
         }
        }
       }
      }
     },
     "metadata": {},
     "output_type": "display_data"
    }
   ],
   "source": [
    "X = np.array([1,2,2.5,3,4,5])\n",
    "Y = np.array([0,3,1,8,7,2])\n",
    "sigman = .1\n",
    "sigmaf = 1\n",
    "l = 1\n",
    "f0 = np.zeros_like(X)\n",
    "\n",
    "fig = px.scatter(x=X, y=Y)\n",
    "fig.show()"
   ]
  },
  {
   "cell_type": "code",
   "execution_count": 83,
   "id": "ac8bd38e",
   "metadata": {},
   "outputs": [
    {
     "name": "stdout",
     "output_type": "stream",
     "text": [
      "X=1.0, Y=0, mu=0.2038, var=0.0098\n",
      "X=2.0, Y=3, mu=1.9526, var=0.0084\n",
      "X=2.5, Y=1, mu=2.8204, var=0.0062\n",
      "X=3.0, Y=8, mu=6.7852, var=0.0081\n",
      "X=4.0, Y=7, mu=7.2628, var=0.0096\n",
      "X=5.0, Y=2, mu=1.9174, var=0.0098\n"
     ]
    },
    {
     "data": {
      "application/vnd.plotly.v1+json": {
       "config": {
        "plotlyServerURL": "https://plot.ly"
       },
       "data": [
        {
         "hovertemplate": "x=%{x}<br>y=%{y}<extra></extra>",
         "legendgroup": "",
         "marker": {
          "color": "#000001",
          "symbol": "circle"
         },
         "mode": "markers",
         "name": "",
         "orientation": "v",
         "showlegend": false,
         "type": "scatter",
         "x": {
          "bdata": "AAAAAAAA8D8AAAAAAAAAQAAAAAAAAARAAAAAAAAACEAAAAAAAAAQQAAAAAAAABRA",
          "dtype": "f8"
         },
         "xaxis": "x",
         "y": {
          "bdata": "VkIqkK4Vyj90UiivrT3/P43nmZ8ykAZAYUKL1gAkG0D2AjTQFQ0dQOv/QRvTrf4/",
          "dtype": "f8"
         },
         "yaxis": "y"
        },
        {
         "hovertemplate": "X=%{x}<br>Y=%{y}<extra></extra>",
         "legendgroup": "",
         "line": {
          "color": "red",
          "dash": "solid"
         },
         "marker": {
          "symbol": "circle"
         },
         "mode": "lines",
         "name": "",
         "orientation": "v",
         "showlegend": false,
         "type": "scatter",
         "x": {
          "bdata": "AAAAAAAA8D8AAAAAAAAAQAAAAAAAAARAAAAAAAAACEAAAAAAAAAQQAAAAAAAABRA",
          "dtype": "f8"
         },
         "xaxis": "x",
         "y": {
          "bdata": "AAMBCAcC",
          "dtype": "i1"
         },
         "yaxis": "y"
        }
       ],
       "layout": {
        "legend": {
         "tracegroupgap": 0
        },
        "margin": {
         "t": 60
        },
        "template": {
         "data": {
          "candlestick": [
           {
            "decreasing": {
             "line": {
              "color": "#000033"
             }
            },
            "increasing": {
             "line": {
              "color": "#000032"
             }
            },
            "type": "candlestick"
           }
          ],
          "contour": [
           {
            "colorscale": [
             [
              0,
              "#000011"
             ],
             [
              0.1111111111111111,
              "#000012"
             ],
             [
              0.2222222222222222,
              "#000013"
             ],
             [
              0.3333333333333333,
              "#000014"
             ],
             [
              0.4444444444444444,
              "#000015"
             ],
             [
              0.5555555555555556,
              "#000016"
             ],
             [
              0.6666666666666666,
              "#000017"
             ],
             [
              0.7777777777777778,
              "#000018"
             ],
             [
              0.8888888888888888,
              "#000019"
             ],
             [
              1,
              "#000020"
             ]
            ],
            "type": "contour"
           }
          ],
          "contourcarpet": [
           {
            "colorscale": [
             [
              0,
              "#000011"
             ],
             [
              0.1111111111111111,
              "#000012"
             ],
             [
              0.2222222222222222,
              "#000013"
             ],
             [
              0.3333333333333333,
              "#000014"
             ],
             [
              0.4444444444444444,
              "#000015"
             ],
             [
              0.5555555555555556,
              "#000016"
             ],
             [
              0.6666666666666666,
              "#000017"
             ],
             [
              0.7777777777777778,
              "#000018"
             ],
             [
              0.8888888888888888,
              "#000019"
             ],
             [
              1,
              "#000020"
             ]
            ],
            "type": "contourcarpet"
           }
          ],
          "heatmap": [
           {
            "colorscale": [
             [
              0,
              "#000011"
             ],
             [
              0.1111111111111111,
              "#000012"
             ],
             [
              0.2222222222222222,
              "#000013"
             ],
             [
              0.3333333333333333,
              "#000014"
             ],
             [
              0.4444444444444444,
              "#000015"
             ],
             [
              0.5555555555555556,
              "#000016"
             ],
             [
              0.6666666666666666,
              "#000017"
             ],
             [
              0.7777777777777778,
              "#000018"
             ],
             [
              0.8888888888888888,
              "#000019"
             ],
             [
              1,
              "#000020"
             ]
            ],
            "type": "heatmap"
           }
          ],
          "histogram2d": [
           {
            "colorscale": [
             [
              0,
              "#000011"
             ],
             [
              0.1111111111111111,
              "#000012"
             ],
             [
              0.2222222222222222,
              "#000013"
             ],
             [
              0.3333333333333333,
              "#000014"
             ],
             [
              0.4444444444444444,
              "#000015"
             ],
             [
              0.5555555555555556,
              "#000016"
             ],
             [
              0.6666666666666666,
              "#000017"
             ],
             [
              0.7777777777777778,
              "#000018"
             ],
             [
              0.8888888888888888,
              "#000019"
             ],
             [
              1,
              "#000020"
             ]
            ],
            "type": "histogram2d"
           }
          ],
          "icicle": [
           {
            "textfont": {
             "color": "white"
            },
            "type": "icicle"
           }
          ],
          "sankey": [
           {
            "textfont": {
             "color": "#000036"
            },
            "type": "sankey"
           }
          ],
          "scatter": [
           {
            "marker": {
             "line": {
              "width": 0
             }
            },
            "type": "scatter"
           }
          ],
          "table": [
           {
            "cells": {
             "fill": {
              "color": "#000038"
             },
             "font": {
              "color": "#000037"
             },
             "line": {
              "color": "#000039"
             }
            },
            "header": {
             "fill": {
              "color": "#000040"
             },
             "font": {
              "color": "#000036"
             },
             "line": {
              "color": "#000039"
             }
            },
            "type": "table"
           }
          ],
          "waterfall": [
           {
            "connector": {
             "line": {
              "color": "#000036",
              "width": 2
             }
            },
            "decreasing": {
             "marker": {
              "color": "#000033"
             }
            },
            "increasing": {
             "marker": {
              "color": "#000032"
             }
            },
            "totals": {
             "marker": {
              "color": "#000034"
             }
            },
            "type": "waterfall"
           }
          ]
         },
         "layout": {
          "coloraxis": {
           "colorscale": [
            [
             0,
             "#000011"
            ],
            [
             0.1111111111111111,
             "#000012"
            ],
            [
             0.2222222222222222,
             "#000013"
            ],
            [
             0.3333333333333333,
             "#000014"
            ],
            [
             0.4444444444444444,
             "#000015"
            ],
            [
             0.5555555555555556,
             "#000016"
            ],
            [
             0.6666666666666666,
             "#000017"
            ],
            [
             0.7777777777777778,
             "#000018"
            ],
            [
             0.8888888888888888,
             "#000019"
            ],
            [
             1,
             "#000020"
            ]
           ]
          },
          "colorscale": {
           "diverging": [
            [
             0,
             "#000021"
            ],
            [
             0.1,
             "#000022"
            ],
            [
             0.2,
             "#000023"
            ],
            [
             0.3,
             "#000024"
            ],
            [
             0.4,
             "#000025"
            ],
            [
             0.5,
             "#000026"
            ],
            [
             0.6,
             "#000027"
            ],
            [
             0.7,
             "#000028"
            ],
            [
             0.8,
             "#000029"
            ],
            [
             0.9,
             "#000030"
            ],
            [
             1,
             "#000031"
            ]
           ],
           "sequential": [
            [
             0,
             "#000011"
            ],
            [
             0.1111111111111111,
             "#000012"
            ],
            [
             0.2222222222222222,
             "#000013"
            ],
            [
             0.3333333333333333,
             "#000014"
            ],
            [
             0.4444444444444444,
             "#000015"
            ],
            [
             0.5555555555555556,
             "#000016"
            ],
            [
             0.6666666666666666,
             "#000017"
            ],
            [
             0.7777777777777778,
             "#000018"
            ],
            [
             0.8888888888888888,
             "#000019"
            ],
            [
             1,
             "#000020"
            ]
           ],
           "sequentialminus": [
            [
             0,
             "#000011"
            ],
            [
             0.1111111111111111,
             "#000012"
            ],
            [
             0.2222222222222222,
             "#000013"
            ],
            [
             0.3333333333333333,
             "#000014"
            ],
            [
             0.4444444444444444,
             "#000015"
            ],
            [
             0.5555555555555556,
             "#000016"
            ],
            [
             0.6666666666666666,
             "#000017"
            ],
            [
             0.7777777777777778,
             "#000018"
            ],
            [
             0.8888888888888888,
             "#000019"
            ],
            [
             1,
             "#000020"
            ]
           ]
          },
          "colorway": [
           "#000001",
           "#000002",
           "#000003",
           "#000004",
           "#000005",
           "#000006",
           "#000007",
           "#000008",
           "#000009",
           "#000010"
          ]
         }
        },
        "xaxis": {
         "anchor": "y",
         "domain": [
          0,
          1
         ],
         "title": {
          "text": "x"
         }
        },
        "yaxis": {
         "anchor": "x",
         "domain": [
          0,
          1
         ],
         "title": {
          "text": "y"
         }
        }
       }
      }
     },
     "metadata": {},
     "output_type": "display_data"
    },
    {
     "name": "stdout",
     "output_type": "stream",
     "text": [
      "Kxx shape: (6, 6), Kxs shape: (6, 100), Kss shape: (100, 100), A shape: (6, 6), Y shape: (6,), f0 shape: (6,)\n"
     ]
    },
    {
     "data": {
      "application/vnd.plotly.v1+json": {
       "config": {
        "plotlyServerURL": "https://plot.ly"
       },
       "data": [
        {
         "hovertemplate": "X=%{x}<br>Y=%{y}<extra></extra>",
         "legendgroup": "",
         "line": {
          "color": "#000001",
          "dash": "solid"
         },
         "marker": {
          "symbol": "circle"
         },
         "mode": "lines",
         "name": "",
         "orientation": "v",
         "showlegend": false,
         "type": "scatter",
         "x": {
          "bdata": "AAAAAAAAEMCJeTtDYt4OwBLzdobEvA3Am2yyySabDMAk5u0MiXkLwK1fKVDrVwrANtlkk002CcDAUqDWrxQIwEjM2xkS8wbA0kUXXXTRBcBav1Kg1q8EwOQ4juM4jgPAbbLJJptsAsD2KwVq/UoBwH+lQK1fKQDAED744IMP/r8iMW9nSMz7vzQk5u0Mifm/RhdddNFF979YCtT6lQL1v2r9SoFav/K/fPDBBx988L8cx3Ecx3Hsv0CtXylQ6+e/aJNNNtlk478Y83aGxLzdv2C/UqDWr9S/UBdddNFFx7+Av1Kg1q+kv0BvZ0jM27k/AB988MEHzz9AQ2LezpDYP3g7Q2LezuA/UFVVVVVV5T8wb2dIzNvpPwiJeTtDYu4/dNFFF1108T9g3s6QmLfzP1DrVwrU+vU/PPjggw8++D8sBWr9SoH6PxgS83aGxPw/CB988MEH/z/6lQK1fqUAQHIcx3EcxwFA6KKLLrroAkBgKVDrVwoEQNavFKj1KwVATDbZZJNNBkDEvJ0hMW8HQDpDYt7OkAhAsskmm2yyCUAoUOtXCtQKQKDWrxSo9QtAFl100UUXDUCO4ziO4zgOQARq/UqBWg9APvjggw8+EEB6O0Ni3s4QQLR+pUCtXxFA8MEHH3zwEUAsBWr9SoESQGhIzNsZEhNAoosuuuiiE0DezpCYtzMUQBoS83aGxBRAVFVVVVVVFUCQmLczJOYVQMzbGRLzdhZACB988MEHF0BCYt7OkJgXQH6lQK1fKRhAuuiiiy66GED2KwVq/UoZQDBvZ0jM2xlAbLLJJptsGkCo9SsFav0aQOQ4juM4jhtAHnzwwQcfHEBav1Kg1q8cQJYCtX6lQB1A0EUXXXTRHUAMiXk7Q2IeQEjM2xkS8x5AhA8++OCDH0BfKVDrVwogQP1KgVq/UiBAm2yyySabIEA5juM4juMgQNavFKj1KyFAdNFFF110IUAS83aGxLwhQLAUqPUrBSJATTbZZJNNIkDrVwrU+pUiQIl5O0Ni3iJAJptssskmI0DEvJ0hMW8jQGLezpCYtyNAAAAAAAAAJEA=",
          "dtype": "f8"
         },
         "xaxis": "x",
         "y": {
          "bdata": "dWfBpHaFE7/pcW69qoojv+yWX1isKjO/EnivevxqQr+abldYqVZRv3iHB2OA+l+/z7UxobXibL+K26oa8Y15v7zmy72tI4a/8PmLEfPHkr9eGxRiHjKfv9mcKsJMXKm/S8W1/EUttL+j/Gs8yWm/v/tI/SqQ68e/kAseddbP0b8/ln6QfO7Zv9eZ+sEMcuK/5Z16rVeh6b8yKAE1AGLxv4ulYSSlAPe/iAIetkCs/b+oSQum3KMCwDy55OScyAbAjFvxH2wOC8D8tM5U/ikPwGUQs67hXhHAP58na4OwEsBTzWpgl1UTwBpp690nIRPAVG1Y5Kn1EcDehjtPDJkPwFg+gMb6dgnAy9+2YaTsAcDzc3BTHS7zv6xKId74eMO/6NRIpxib6T9Fpek4DB/5Pyn6P5maxQBA3An6DbvdAkCz5+J+dAwDQLmJZY5f4wFAwnn5MDQ8AEDEOk5aXyj+P+SSZ2K/u/4/0fp/H/jRAUB4HC7JqcgGQDysomWrIw5Ai/O9+fymE0ACRZa69qgYQI2vcGfNgB1AXPXt8WvKIEAiJ/zvODEiQHJybYiMySJA6IJ/W5GEIkAcuh+QC3EhQNhn3+bnbh9ANoOiiiokG0CT+xoQ2oUWQHquGGWjEhJAMwdRNMlkDEAm4H1G+FQGQNet9kM0MgJAYMd3c03d/z+/QTrKJIL+PzTboVQUdP8/U6+SfPDaAEBMU36ZsioCQLwyUxFnRQNA80ZSmm/lA0BGmHmfI+YDQAqjS3gbQQNAnF30kdMHAkAo+9OkiVsAQDZKXo4Eyvw/tPZRxOqa+D9FHGoSsnL0PyXto6+FivA/EgCs9dIS6j8c/PhIsAnkP5R7PTqCDd4/MQ1uQBIB1j8CqUqLR3rPP15LZQ4tAcY/LFAzQVIUvj95RsO/fxu0P8bEjGbpTKo/8L2GFAbVoD90NKsIlBaVP2LPfPyB3Yk/aGwL2B0Qfz80CC9ZJ0RyP3HzfJ1GCmU/zH4VrCG9Vz/ueI8OwDxKP3AK6RzcaDw/EJd6To0jLj8IREtf71MfP4bCKd5y6A8/NB/ylorY/z4=",
          "dtype": "f8"
         },
         "yaxis": "y"
        },
        {
         "hovertemplate": "X=%{x}<br>Y=%{y}<extra></extra>",
         "legendgroup": "",
         "marker": {
          "color": "red",
          "symbol": "circle"
         },
         "mode": "markers",
         "name": "",
         "orientation": "v",
         "showlegend": false,
         "type": "scatter",
         "x": {
          "bdata": "AAAAAAAA8D8AAAAAAAAAQAAAAAAAAARAAAAAAAAACEAAAAAAAAAQQAAAAAAAABRA",
          "dtype": "f8"
         },
         "xaxis": "x",
         "y": {
          "bdata": "AAMBCAcC",
          "dtype": "i1"
         },
         "yaxis": "y"
        },
        {
         "hovertemplate": "x=%{x}<br>y=%{y}<extra></extra>",
         "legendgroup": "",
         "line": {
          "color": "#000001",
          "dash": "solid"
         },
         "marker": {
          "symbol": "circle"
         },
         "mode": "lines",
         "name": "",
         "orientation": "v",
         "showlegend": false,
         "type": "scatter",
         "x": {
          "bdata": "AAAAAAAAEMCJeTtDYt4OwBLzdobEvA3Am2yyySabDMAk5u0MiXkLwK1fKVDrVwrANtlkk002CcDAUqDWrxQIwEjM2xkS8wbA0kUXXXTRBcBav1Kg1q8EwOQ4juM4jgPAbbLJJptsAsD2KwVq/UoBwH+lQK1fKQDAED744IMP/r8iMW9nSMz7vzQk5u0Mifm/RhdddNFF979YCtT6lQL1v2r9SoFav/K/fPDBBx988L8cx3Ecx3Hsv0CtXylQ6+e/aJNNNtlk478Y83aGxLzdv2C/UqDWr9S/UBdddNFFx7+Av1Kg1q+kv0BvZ0jM27k/AB988MEHzz9AQ2LezpDYP3g7Q2LezuA/UFVVVVVV5T8wb2dIzNvpPwiJeTtDYu4/dNFFF1108T9g3s6QmLfzP1DrVwrU+vU/PPjggw8++D8sBWr9SoH6PxgS83aGxPw/CB988MEH/z/6lQK1fqUAQHIcx3EcxwFA6KKLLrroAkBgKVDrVwoEQNavFKj1KwVATDbZZJNNBkDEvJ0hMW8HQDpDYt7OkAhAsskmm2yyCUAoUOtXCtQKQKDWrxSo9QtAFl100UUXDUCO4ziO4zgOQARq/UqBWg9APvjggw8+EEB6O0Ni3s4QQLR+pUCtXxFA8MEHH3zwEUAsBWr9SoESQGhIzNsZEhNAoosuuuiiE0DezpCYtzMUQBoS83aGxBRAVFVVVVVVFUCQmLczJOYVQMzbGRLzdhZACB988MEHF0BCYt7OkJgXQH6lQK1fKRhAuuiiiy66GED2KwVq/UoZQDBvZ0jM2xlAbLLJJptsGkCo9SsFav0aQOQ4juM4jhtAHnzwwQcfHEBav1Kg1q8cQJYCtX6lQB1A0EUXXXTRHUAMiXk7Q2IeQEjM2xkS8x5AhA8++OCDH0BfKVDrVwogQP1KgVq/UiBAm2yyySabIEA5juM4juMgQNavFKj1KyFAdNFFF110IUAS83aGxLwhQLAUqPUrBSJATTbZZJNNIkDrVwrU+pUiQIl5O0Ni3iJAJptssskmI0DEvJ0hMW8jQGLezpCYtyNAAAAAAAAAJEA=",
          "dtype": "f8"
         },
         "xaxis": "x",
         "y": {
          "bdata": "SqJI1GP/7z9DPUtVx/7vP6V6Uqqa/e8/lGBhQGX77z8ivIupVPfvP/sitbkC8O8/FARSNh3j7z/WD4De48zvPwMHNIlwp+8/lNM9Ob5p7z84SZz1aAbvP+1ezd4qau4//mzeOC167T9J+gYOXxLsP/8PWgkmBOo/izvuyOUV5z84iTn9/gPjP352xdP9B9s/zI97C8oqyT8QkJhKDVO3v/ymqy4gkNy/PFXIhrDV67+baDpu97H1v4aCDRZiPv6/JteCcwaWA8AANbczTPYHwFbWwLwz5gvA6RYRxcX/DsB44o+ptW0QwFKvqcTujhDA2L/e1dWHD8BnfGSi6AQMwG24U1ZGtgbAihdM9I/r/790KabqaJrwv2J65DGfPKe/JCzO11fM7D/gV5gBGAn7P1A61ABL3QFAQYT9iGP+A0BcUAX8pBwEQMyN6RYj0gJAgo4yBlIFAUDmA2NnyYH/P/ks8u0B/f8/lfdfDdtxAkBPpxLTZmkHQJ93lDw4ww5AGej32JD3E0CynizOpP8YQMkzNyZq4x1A3wEX+JQCIUAx6oB9cm4iQIAxmhYgCCNAQcR82U7AIkAra7IJSachQJq8FlHm0h9Almy+u3WLG0Bcx5iXsvwWQAo7xD/LmxJAlsa7sOGMDUC+8T/7GHcHQNyprI9uMANA0QfL+Lm+AEBucPHltBsAQBdQ7BfbCAFA5beUMZ/eAkDwpYwTOP8EQPJmGahB8gZA6vQ4vgxkCEBuh9hOuiUJQJRIi24WKglABQ3K2wt/CEDgkUSFJEUHQPJeh0q7pgVA1PbbOTLQA0AKwCPSAeoBQMGyXkX0FABA4JAM7ejQ/D+AlTVGH+X5PzciUDNJcvc/X1y8xm539T93wj835+rzP1QaGOQPvvI/PztjdlHg8T+Wyjk6TUHxPy4HIWg60vA//10fE5aG8D/4GH5LU1TwP6Fgume4M/A/QX0zLw8f8D+dgIPVQxLwP6/qWwiFCvA/eD7lP+8F8D9nImuVRwPwP0h7AI3GAfA/3Uc0HPEA8D+J6K5PfQDwP0X34dA/APA/Q6eJ2B8A8D8=",
          "dtype": "f8"
         },
         "yaxis": "y"
        },
        {
         "hovertemplate": "x=%{x}<br>y=%{y}<extra></extra>",
         "legendgroup": "",
         "line": {
          "color": "#000001",
          "dash": "solid"
         },
         "marker": {
          "symbol": "circle"
         },
         "mode": "lines",
         "name": "",
         "orientation": "v",
         "showlegend": false,
         "type": "scatter",
         "x": {
          "bdata": "AAAAAAAAEMCJeTtDYt4OwBLzdobEvA3Am2yyySabDMAk5u0MiXkLwK1fKVDrVwrANtlkk002CcDAUqDWrxQIwEjM2xkS8wbA0kUXXXTRBcBav1Kg1q8EwOQ4juM4jgPAbbLJJptsAsD2KwVq/UoBwH+lQK1fKQDAED744IMP/r8iMW9nSMz7vzQk5u0Mifm/RhdddNFF979YCtT6lQL1v2r9SoFav/K/fPDBBx988L8cx3Ecx3Hsv0CtXylQ6+e/aJNNNtlk478Y83aGxLzdv2C/UqDWr9S/UBdddNFFx7+Av1Kg1q+kv0BvZ0jM27k/AB988MEHzz9AQ2LezpDYP3g7Q2LezuA/UFVVVVVV5T8wb2dIzNvpPwiJeTtDYu4/dNFFF1108T9g3s6QmLfzP1DrVwrU+vU/PPjggw8++D8sBWr9SoH6PxgS83aGxPw/CB988MEH/z/6lQK1fqUAQHIcx3EcxwFA6KKLLrroAkBgKVDrVwoEQNavFKj1KwVATDbZZJNNBkDEvJ0hMW8HQDpDYt7OkAhAsskmm2yyCUAoUOtXCtQKQKDWrxSo9QtAFl100UUXDUCO4ziO4zgOQARq/UqBWg9APvjggw8+EEB6O0Ni3s4QQLR+pUCtXxFA8MEHH3zwEUAsBWr9SoESQGhIzNsZEhNAoosuuuiiE0DezpCYtzMUQBoS83aGxBRAVFVVVVVVFUCQmLczJOYVQMzbGRLzdhZACB988MEHF0BCYt7OkJgXQH6lQK1fKRhAuuiiiy66GED2KwVq/UoZQDBvZ0jM2xlAbLLJJptsGkCo9SsFav0aQOQ4juM4jhtAHnzwwQcfHEBav1Kg1q8cQJYCtX6lQB1A0EUXXXTRHUAMiXk7Q2IeQEjM2xkS8x5AhA8++OCDH0BfKVDrVwogQP1KgVq/UiBAm2yyySabIEA5juM4juMgQNavFKj1KyFAdNFFF110IUAS83aGxLwhQLAUqPUrBSJATTbZZJNNIkDrVwrU+pUiQIl5O0Ni3iJAJptssskmI0DEvJ0hMW8jQGLezpCYtyNAAAAAAAAAJEA=",
          "dtype": "f8"
         },
         "xaxis": "x",
         "y": {
          "bdata": "MHfZFU4A8L+JdVFVnADwv0VJtKoyAfC/KFxPX00C8L/ICXKpVQTwv0EVDJ3+B/C/wDPKUHEO8L+iXXXRjRnwvxwzkftGLPC/mUkrtR5L8L93xd5txXzwv0RZiTvayvC/KO8FXL9C8b+5/JCuaPbxvz5abA/3/PK/jiMGH95y9L+8D9zGPXn2v3b36zYMNPm/3g/q7rDG/L+yY6zKZ6cAwKwwjB6hbgPAOe1rlNS2BsACX/mUvW4KwDWxwr4Icg7A+e8v5mhDEcB8GvM62C4TwJ+1BX+pyhTACrPG8yPhFcAuuEUXeT0WwOIiLfdgsxXAvHrB3WgnFMCqSAn+l5YRwEPErDavNwzA0bNHyYDjA8Byvjq80cH1v2C75PdkkdC/rH3Ddtlp5j+q8jpwADX3PwR0V2PUW/8/d4/2khK9AUAKf8ABRPwBQKaF4QWc9ABABMqAtyzm/j+icTlN9c78P8/43NZ8ev0/Df6fMRUyAUChkUm/7CcGQNngsI4ehA1A/f6DGmlWE0BS6/+mSFIYQFErqqgwHh1A2ejE60KSIEATZHdi//MhQGSzQPr4iiJAj0GC3dNIIkANCY0WzjohQBYTqHzpCh9A1pmGWd+8GkDKL52IAQ8WQOohbYp7iRFA0Efmt7A8C0COzruR1zIFQNKxQPj5MwFAHX9Z9SY9/j+iopHI38z8PzoWa3ly1vw/gk0hj4Ou/T9PAeA+Wqz+Pwz9GfUYMf8/+THX7KTN/j88UjXgGU39PwD7FwRBsPo/Zlw9kDYh9z/fyMaI3ePyPxCtWw8ljew/gf/XKeIq4z/Y4TICgkXUP/CYTpFaZK0/bIYEu6/wxb+SZfL0u23Xv9rIYiwQ1+C/jKsKTcvt5L9uMNqoqhjov/qO/UCJe+q/cqJ5XI477L+Ow4KEunvtv8N1cKPXWu6/QOStY4vy7r+ofnFWPVfvv8bakL+EmO+/0cwG593B778aRaINd9vvv3fbfIP16u+/cmceXiH0778R/c7KcPnvv068+eJy/O+/aMC+xh3+779d3GdgBf/vvzv9LF6A/++/vvLoTsD/778=",
          "dtype": "f8"
         },
         "yaxis": "y"
        }
       ],
       "layout": {
        "legend": {
         "tracegroupgap": 0
        },
        "margin": {
         "t": 60
        },
        "template": {
         "data": {
          "candlestick": [
           {
            "decreasing": {
             "line": {
              "color": "#000033"
             }
            },
            "increasing": {
             "line": {
              "color": "#000032"
             }
            },
            "type": "candlestick"
           }
          ],
          "contour": [
           {
            "colorscale": [
             [
              0,
              "#000011"
             ],
             [
              0.1111111111111111,
              "#000012"
             ],
             [
              0.2222222222222222,
              "#000013"
             ],
             [
              0.3333333333333333,
              "#000014"
             ],
             [
              0.4444444444444444,
              "#000015"
             ],
             [
              0.5555555555555556,
              "#000016"
             ],
             [
              0.6666666666666666,
              "#000017"
             ],
             [
              0.7777777777777778,
              "#000018"
             ],
             [
              0.8888888888888888,
              "#000019"
             ],
             [
              1,
              "#000020"
             ]
            ],
            "type": "contour"
           }
          ],
          "contourcarpet": [
           {
            "colorscale": [
             [
              0,
              "#000011"
             ],
             [
              0.1111111111111111,
              "#000012"
             ],
             [
              0.2222222222222222,
              "#000013"
             ],
             [
              0.3333333333333333,
              "#000014"
             ],
             [
              0.4444444444444444,
              "#000015"
             ],
             [
              0.5555555555555556,
              "#000016"
             ],
             [
              0.6666666666666666,
              "#000017"
             ],
             [
              0.7777777777777778,
              "#000018"
             ],
             [
              0.8888888888888888,
              "#000019"
             ],
             [
              1,
              "#000020"
             ]
            ],
            "type": "contourcarpet"
           }
          ],
          "heatmap": [
           {
            "colorscale": [
             [
              0,
              "#000011"
             ],
             [
              0.1111111111111111,
              "#000012"
             ],
             [
              0.2222222222222222,
              "#000013"
             ],
             [
              0.3333333333333333,
              "#000014"
             ],
             [
              0.4444444444444444,
              "#000015"
             ],
             [
              0.5555555555555556,
              "#000016"
             ],
             [
              0.6666666666666666,
              "#000017"
             ],
             [
              0.7777777777777778,
              "#000018"
             ],
             [
              0.8888888888888888,
              "#000019"
             ],
             [
              1,
              "#000020"
             ]
            ],
            "type": "heatmap"
           }
          ],
          "histogram2d": [
           {
            "colorscale": [
             [
              0,
              "#000011"
             ],
             [
              0.1111111111111111,
              "#000012"
             ],
             [
              0.2222222222222222,
              "#000013"
             ],
             [
              0.3333333333333333,
              "#000014"
             ],
             [
              0.4444444444444444,
              "#000015"
             ],
             [
              0.5555555555555556,
              "#000016"
             ],
             [
              0.6666666666666666,
              "#000017"
             ],
             [
              0.7777777777777778,
              "#000018"
             ],
             [
              0.8888888888888888,
              "#000019"
             ],
             [
              1,
              "#000020"
             ]
            ],
            "type": "histogram2d"
           }
          ],
          "icicle": [
           {
            "textfont": {
             "color": "white"
            },
            "type": "icicle"
           }
          ],
          "sankey": [
           {
            "textfont": {
             "color": "#000036"
            },
            "type": "sankey"
           }
          ],
          "scatter": [
           {
            "marker": {
             "line": {
              "width": 0
             }
            },
            "type": "scatter"
           }
          ],
          "table": [
           {
            "cells": {
             "fill": {
              "color": "#000038"
             },
             "font": {
              "color": "#000037"
             },
             "line": {
              "color": "#000039"
             }
            },
            "header": {
             "fill": {
              "color": "#000040"
             },
             "font": {
              "color": "#000036"
             },
             "line": {
              "color": "#000039"
             }
            },
            "type": "table"
           }
          ],
          "waterfall": [
           {
            "connector": {
             "line": {
              "color": "#000036",
              "width": 2
             }
            },
            "decreasing": {
             "marker": {
              "color": "#000033"
             }
            },
            "increasing": {
             "marker": {
              "color": "#000032"
             }
            },
            "totals": {
             "marker": {
              "color": "#000034"
             }
            },
            "type": "waterfall"
           }
          ]
         },
         "layout": {
          "coloraxis": {
           "colorscale": [
            [
             0,
             "#000011"
            ],
            [
             0.1111111111111111,
             "#000012"
            ],
            [
             0.2222222222222222,
             "#000013"
            ],
            [
             0.3333333333333333,
             "#000014"
            ],
            [
             0.4444444444444444,
             "#000015"
            ],
            [
             0.5555555555555556,
             "#000016"
            ],
            [
             0.6666666666666666,
             "#000017"
            ],
            [
             0.7777777777777778,
             "#000018"
            ],
            [
             0.8888888888888888,
             "#000019"
            ],
            [
             1,
             "#000020"
            ]
           ]
          },
          "colorscale": {
           "diverging": [
            [
             0,
             "#000021"
            ],
            [
             0.1,
             "#000022"
            ],
            [
             0.2,
             "#000023"
            ],
            [
             0.3,
             "#000024"
            ],
            [
             0.4,
             "#000025"
            ],
            [
             0.5,
             "#000026"
            ],
            [
             0.6,
             "#000027"
            ],
            [
             0.7,
             "#000028"
            ],
            [
             0.8,
             "#000029"
            ],
            [
             0.9,
             "#000030"
            ],
            [
             1,
             "#000031"
            ]
           ],
           "sequential": [
            [
             0,
             "#000011"
            ],
            [
             0.1111111111111111,
             "#000012"
            ],
            [
             0.2222222222222222,
             "#000013"
            ],
            [
             0.3333333333333333,
             "#000014"
            ],
            [
             0.4444444444444444,
             "#000015"
            ],
            [
             0.5555555555555556,
             "#000016"
            ],
            [
             0.6666666666666666,
             "#000017"
            ],
            [
             0.7777777777777778,
             "#000018"
            ],
            [
             0.8888888888888888,
             "#000019"
            ],
            [
             1,
             "#000020"
            ]
           ],
           "sequentialminus": [
            [
             0,
             "#000011"
            ],
            [
             0.1111111111111111,
             "#000012"
            ],
            [
             0.2222222222222222,
             "#000013"
            ],
            [
             0.3333333333333333,
             "#000014"
            ],
            [
             0.4444444444444444,
             "#000015"
            ],
            [
             0.5555555555555556,
             "#000016"
            ],
            [
             0.6666666666666666,
             "#000017"
            ],
            [
             0.7777777777777778,
             "#000018"
            ],
            [
             0.8888888888888888,
             "#000019"
            ],
            [
             1,
             "#000020"
            ]
           ]
          },
          "colorway": [
           "#000001",
           "#000002",
           "#000003",
           "#000004",
           "#000005",
           "#000006",
           "#000007",
           "#000008",
           "#000009",
           "#000010"
          ]
         }
        },
        "xaxis": {
         "anchor": "y",
         "domain": [
          0,
          1
         ],
         "title": {
          "text": "X"
         }
        },
        "yaxis": {
         "anchor": "x",
         "domain": [
          0,
          1
         ],
         "title": {
          "text": "Y"
         }
        }
       }
      }
     },
     "metadata": {},
     "output_type": "display_data"
    }
   ],
   "source": [
    "def k(a,b, sf, l):\n",
    "    return np.exp(-.5 * np.linalg.norm(a-b)**2 / l**2) * sf**2\n",
    "\n",
    "Kxx = np.array([[k(x1,x2, sigmaf, l) for x1 in X] for x2 in X])\n",
    "A = np.linalg.inv(Kxx + sigman**2 * np.eye(len(X)))\n",
    "mu = f0 + Kxx @ A @ (Y - f0)\n",
    "COV = Kxx - Kxx @ A @ Kxx\n",
    "\n",
    "for x,a,b,c in zip(X, Y, mu, np.diag(COV)): print(f\"X={x}, Y={a}, mu={b:.4f}, var={c:.4f}\")\n",
    "\n",
    "fig = px.scatter(x=X, y=mu)\n",
    "fig.add_trace(px.line(x=X, y=Y, color_discrete_sequence=['red'], labels={'x':'X', 'y':'Y'}).data[0])\n",
    "\n",
    "fig.show()\n",
    "\n",
    "\n",
    "x_star = np.linspace(-4,10,100)\n",
    "Kxs = np.transpose(np.array([[k(x1,x2, sigmaf, l) for x1 in X] for x2 in x_star]))\n",
    "Kss = np.array([[k(x1,x2, sigmaf, l) for x1 in x_star] for x2 in x_star])\n",
    "\n",
    "print(f\"Kxx shape: {Kxx.shape}, Kxs shape: {Kxs.shape}, Kss shape: {Kss.shape}, A shape: {A.shape}, Y shape: {Y.shape}, f0 shape: {f0.shape}\")\n",
    "mu_star = np.transpose(Kxs) @ A @ Y\n",
    "COV_star = Kss - np.transpose(Kxs) @ A @ Kxs\n",
    "std = np.diag(COV_star)**.5\n",
    "\n",
    "fig = px.line(x=x_star, y=mu_star, labels={'x':'X', 'y':'Y'})\n",
    "fig.add_trace(px.scatter(x=X, y=Y, color_discrete_sequence=['red'], labels={'x':'X', 'y':'Y'}).data[0])\n",
    "fig.add_trace(px.line(x=x_star, y=mu_star+std).data[0])\n",
    "fig.add_trace(px.line(x=x_star, y=mu_star-std).data[0])\n",
    "fig.show()\n"
   ]
  },
  {
   "cell_type": "code",
   "execution_count": null,
   "id": "cda9c066",
   "metadata": {},
   "outputs": [],
   "source": []
  }
 ],
 "metadata": {
  "kernelspec": {
   "display_name": ".venv",
   "language": "python",
   "name": "python3"
  },
  "language_info": {
   "codemirror_mode": {
    "name": "ipython",
    "version": 3
   },
   "file_extension": ".py",
   "mimetype": "text/x-python",
   "name": "python",
   "nbconvert_exporter": "python",
   "pygments_lexer": "ipython3",
   "version": "3.13.7"
  }
 },
 "nbformat": 4,
 "nbformat_minor": 5
}
