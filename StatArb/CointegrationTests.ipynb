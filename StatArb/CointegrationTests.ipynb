{
 "cells": [
  {
   "cell_type": "markdown",
   "id": "a211c129",
   "metadata": {},
   "source": [
    "This notebook pulls the top N Individual stocks and tests cointegration"
   ]
  },
  {
   "cell_type": "code",
   "execution_count": 66,
   "id": "2e1f2233",
   "metadata": {},
   "outputs": [],
   "source": [
    "import yfinance as yf\n",
    "import numpy as np\n",
    "import pandas as pd\n",
    "import matplotlib.pyplot as plt\n",
    "import seaborn as sns\n",
    "import datetime as dt\n",
    "import Kalman\n",
    "import Cointegration\n",
    "from statsmodels.tsa.stattools import coint\n",
    "from statsmodels.api import add_constant, OLS\n",
    "\n",
    "N = 20\n",
    "Tickers = [ 'NVDA',  'MSFT', 'AAPL','AMZN','META','AVGO','GOOGL','TSLA', 'GOOG', 'BRK-B',\n",
    "            'JPM',   'LLY',  'V',   'NFLX','XOM', 'MA',   'ORCL', 'WMT','JNJ','PLTR',\n",
    "            'COST',  'ABBV', 'HD',  'PG',  'BAC', 'GE',   'UNH',  'CVX','CSCO', 'WFC',\n",
    "            'IBM',   'AMD',  'KO',  'PM',  'GS',  'ABT',  'CRM',  'RTX','CAT','LIN',\n",
    "            'MCD',   'MRK',  'DIS', 'UBER','T',   'APP',  'MS',   'PEP','NOW','INTU',\n",
    "            'MU',    'C',    'VZ',  'TMO', 'AXP', 'QCOM', 'BKNG', 'LRCX','BLK','GEV',\n",
    "            'TXN',   'AMAT', 'BA',  'SCHW','TJX', 'ISRG', 'NEE',  'ACN','SPGI','AMGN',\n",
    "            'APH',   'ANET', 'ADBE','INTC','ETN', 'PFE',  'PGR',  'BSX','KLAC', 'LOW',\n",
    "            'UNP',   'GILD', 'PANW','COF', 'HON', 'SYK',  'DHR',  'BX','CRWD','MDT',\n",
    "            'ADI',   'WELL', 'ADP', 'COP', 'TMUS','DE',   'CMCSA','MO','HOOD','PLD']"
   ]
  },
  {
   "cell_type": "code",
   "execution_count": 67,
   "id": "8f8e5127",
   "metadata": {},
   "outputs": [
    {
     "name": "stderr",
     "output_type": "stream",
     "text": [
      "C:\\Users\\adamd\\AppData\\Local\\Temp\\ipykernel_37292\\3836554318.py:1: FutureWarning: YF.download() has changed argument auto_adjust default to True\n",
      "  data = yf.download(Tickers[0:N], period='1y', interval='1h')['Close'].dropna()\n",
      "[*********************100%***********************]  20 of 20 completed\n"
     ]
    },
    {
     "name": "stdout",
     "output_type": "stream",
     "text": [
      "Processing cointegration tests...\n",
      "1/380: NVDA-MSFT\n",
      "2/380: NVDA-AAPL\n",
      "3/380: NVDA-AMZN\n",
      "4/380: NVDA-META\n",
      "5/380: NVDA-AVGO\n",
      "6/380: NVDA-GOOGL\n",
      "7/380: NVDA-TSLA\n",
      "8/380: NVDA-GOOG\n",
      "9/380: NVDA-BRK-B\n",
      "10/380: NVDA-JPM\n",
      "11/380: NVDA-LLY\n",
      "12/380: NVDA-V\n",
      "13/380: NVDA-NFLX\n",
      "14/380: NVDA-XOM\n",
      "15/380: NVDA-MA\n",
      "16/380: NVDA-ORCL\n",
      "17/380: NVDA-WMT\n",
      "18/380: NVDA-JNJ\n",
      "19/380: NVDA-PLTR\n",
      "20/380: MSFT-NVDA\n",
      "21/380: MSFT-AAPL\n",
      "22/380: MSFT-AMZN\n",
      "23/380: MSFT-META\n",
      "24/380: MSFT-AVGO\n",
      "25/380: MSFT-GOOGL\n",
      "26/380: MSFT-TSLA\n",
      "27/380: MSFT-GOOG\n",
      "28/380: MSFT-BRK-B\n",
      "29/380: MSFT-JPM\n",
      "30/380: MSFT-LLY\n",
      "31/380: MSFT-V\n",
      "32/380: MSFT-NFLX\n",
      "33/380: MSFT-XOM\n",
      "34/380: MSFT-MA\n",
      "35/380: MSFT-ORCL\n",
      "36/380: MSFT-WMT\n",
      "37/380: MSFT-JNJ\n",
      "38/380: MSFT-PLTR\n",
      "39/380: AAPL-NVDA\n",
      "40/380: AAPL-MSFT\n",
      "41/380: AAPL-AMZN\n",
      "42/380: AAPL-META\n",
      "43/380: AAPL-AVGO\n",
      "44/380: AAPL-GOOGL\n",
      "45/380: AAPL-TSLA\n",
      "46/380: AAPL-GOOG\n",
      "47/380: AAPL-BRK-B\n",
      "48/380: AAPL-JPM\n",
      "49/380: AAPL-LLY\n",
      "50/380: AAPL-V\n",
      "51/380: AAPL-NFLX\n",
      "52/380: AAPL-XOM\n",
      "53/380: AAPL-MA\n",
      "54/380: AAPL-ORCL\n",
      "55/380: AAPL-WMT\n",
      "56/380: AAPL-JNJ\n",
      "57/380: AAPL-PLTR\n",
      "58/380: AMZN-NVDA\n",
      "59/380: AMZN-MSFT\n",
      "60/380: AMZN-AAPL\n",
      "61/380: AMZN-META\n",
      "62/380: AMZN-AVGO\n",
      "63/380: AMZN-GOOGL\n",
      "64/380: AMZN-TSLA\n",
      "65/380: AMZN-GOOG\n",
      "66/380: AMZN-BRK-B\n",
      "67/380: AMZN-JPM\n",
      "68/380: AMZN-LLY\n",
      "69/380: AMZN-V\n",
      "70/380: AMZN-NFLX\n",
      "71/380: AMZN-XOM\n",
      "72/380: AMZN-MA\n",
      "73/380: AMZN-ORCL\n",
      "74/380: AMZN-WMT\n",
      "75/380: AMZN-JNJ\n",
      "76/380: AMZN-PLTR\n",
      "77/380: META-NVDA\n",
      "78/380: META-MSFT\n",
      "79/380: META-AAPL\n",
      "80/380: META-AMZN\n",
      "81/380: META-AVGO\n",
      "82/380: META-GOOGL\n",
      "83/380: META-TSLA\n",
      "84/380: META-GOOG\n",
      "85/380: META-BRK-B\n",
      "86/380: META-JPM\n",
      "87/380: META-LLY\n",
      "88/380: META-V\n",
      "89/380: META-NFLX\n",
      "90/380: META-XOM\n",
      "91/380: META-MA\n",
      "92/380: META-ORCL\n",
      "93/380: META-WMT\n",
      "94/380: META-JNJ\n",
      "95/380: META-PLTR\n",
      "96/380: AVGO-NVDA\n",
      "97/380: AVGO-MSFT\n",
      "98/380: AVGO-AAPL\n",
      "99/380: AVGO-AMZN\n",
      "100/380: AVGO-META\n",
      "101/380: AVGO-GOOGL\n",
      "102/380: AVGO-TSLA\n",
      "103/380: AVGO-GOOG\n",
      "104/380: AVGO-BRK-B\n",
      "105/380: AVGO-JPM\n",
      "106/380: AVGO-LLY\n",
      "107/380: AVGO-V\n",
      "108/380: AVGO-NFLX\n",
      "109/380: AVGO-XOM\n",
      "110/380: AVGO-MA\n",
      "111/380: AVGO-ORCL\n",
      "112/380: AVGO-WMT\n",
      "113/380: AVGO-JNJ\n",
      "114/380: AVGO-PLTR\n",
      "115/380: GOOGL-NVDA\n",
      "116/380: GOOGL-MSFT\n",
      "117/380: GOOGL-AAPL\n",
      "118/380: GOOGL-AMZN\n",
      "119/380: GOOGL-META\n",
      "120/380: GOOGL-AVGO\n",
      "121/380: GOOGL-TSLA\n",
      "122/380: GOOGL-GOOG\n",
      "123/380: GOOGL-BRK-B\n",
      "124/380: GOOGL-JPM\n",
      "125/380: GOOGL-LLY\n",
      "126/380: GOOGL-V\n",
      "127/380: GOOGL-NFLX\n",
      "128/380: GOOGL-XOM\n",
      "129/380: GOOGL-MA\n",
      "130/380: GOOGL-ORCL\n",
      "131/380: GOOGL-WMT\n",
      "132/380: GOOGL-JNJ\n",
      "133/380: GOOGL-PLTR\n",
      "134/380: TSLA-NVDA\n",
      "135/380: TSLA-MSFT\n",
      "136/380: TSLA-AAPL\n",
      "137/380: TSLA-AMZN\n",
      "138/380: TSLA-META\n",
      "139/380: TSLA-AVGO\n",
      "140/380: TSLA-GOOGL\n",
      "141/380: TSLA-GOOG\n",
      "142/380: TSLA-BRK-B\n",
      "143/380: TSLA-JPM\n",
      "144/380: TSLA-LLY\n",
      "145/380: TSLA-V\n",
      "146/380: TSLA-NFLX\n",
      "147/380: TSLA-XOM\n",
      "148/380: TSLA-MA\n",
      "149/380: TSLA-ORCL\n",
      "150/380: TSLA-WMT\n",
      "151/380: TSLA-JNJ\n",
      "152/380: TSLA-PLTR\n",
      "153/380: GOOG-NVDA\n",
      "154/380: GOOG-MSFT\n",
      "155/380: GOOG-AAPL\n",
      "156/380: GOOG-AMZN\n",
      "157/380: GOOG-META\n",
      "158/380: GOOG-AVGO\n",
      "159/380: GOOG-GOOGL\n",
      "160/380: GOOG-TSLA\n",
      "161/380: GOOG-BRK-B\n",
      "162/380: GOOG-JPM\n",
      "163/380: GOOG-LLY\n",
      "164/380: GOOG-V\n",
      "165/380: GOOG-NFLX\n",
      "166/380: GOOG-XOM\n",
      "167/380: GOOG-MA\n",
      "168/380: GOOG-ORCL\n",
      "169/380: GOOG-WMT\n",
      "170/380: GOOG-JNJ\n",
      "171/380: GOOG-PLTR\n",
      "172/380: BRK-B-NVDA\n",
      "173/380: BRK-B-MSFT\n",
      "174/380: BRK-B-AAPL\n",
      "175/380: BRK-B-AMZN\n",
      "176/380: BRK-B-META\n",
      "177/380: BRK-B-AVGO\n",
      "178/380: BRK-B-GOOGL\n",
      "179/380: BRK-B-TSLA\n",
      "180/380: BRK-B-GOOG\n",
      "181/380: BRK-B-JPM\n",
      "182/380: BRK-B-LLY\n",
      "183/380: BRK-B-V\n",
      "184/380: BRK-B-NFLX\n",
      "185/380: BRK-B-XOM\n",
      "186/380: BRK-B-MA\n",
      "187/380: BRK-B-ORCL\n",
      "188/380: BRK-B-WMT\n",
      "189/380: BRK-B-JNJ\n",
      "190/380: BRK-B-PLTR\n",
      "191/380: JPM-NVDA\n",
      "192/380: JPM-MSFT\n",
      "193/380: JPM-AAPL\n",
      "194/380: JPM-AMZN\n",
      "195/380: JPM-META\n",
      "196/380: JPM-AVGO\n",
      "197/380: JPM-GOOGL\n",
      "198/380: JPM-TSLA\n",
      "199/380: JPM-GOOG\n",
      "200/380: JPM-BRK-B\n",
      "201/380: JPM-LLY\n",
      "202/380: JPM-V\n",
      "203/380: JPM-NFLX\n",
      "204/380: JPM-XOM\n",
      "205/380: JPM-MA\n",
      "206/380: JPM-ORCL\n",
      "207/380: JPM-WMT\n",
      "208/380: JPM-JNJ\n",
      "209/380: JPM-PLTR\n",
      "210/380: LLY-NVDA\n",
      "211/380: LLY-MSFT\n",
      "212/380: LLY-AAPL\n",
      "213/380: LLY-AMZN\n",
      "214/380: LLY-META\n",
      "215/380: LLY-AVGO\n",
      "216/380: LLY-GOOGL\n",
      "217/380: LLY-TSLA\n",
      "218/380: LLY-GOOG\n",
      "219/380: LLY-BRK-B\n",
      "220/380: LLY-JPM\n",
      "221/380: LLY-V\n",
      "222/380: LLY-NFLX\n",
      "223/380: LLY-XOM\n",
      "224/380: LLY-MA\n",
      "225/380: LLY-ORCL\n",
      "226/380: LLY-WMT\n",
      "227/380: LLY-JNJ\n",
      "228/380: LLY-PLTR\n",
      "229/380: V-NVDA\n",
      "230/380: V-MSFT\n",
      "231/380: V-AAPL\n",
      "232/380: V-AMZN\n",
      "233/380: V-META\n",
      "234/380: V-AVGO\n",
      "235/380: V-GOOGL\n",
      "236/380: V-TSLA\n",
      "237/380: V-GOOG\n",
      "238/380: V-BRK-B\n",
      "239/380: V-JPM\n",
      "240/380: V-LLY\n",
      "241/380: V-NFLX\n",
      "242/380: V-XOM\n",
      "243/380: V-MA\n",
      "244/380: V-ORCL\n",
      "245/380: V-WMT\n",
      "246/380: V-JNJ\n",
      "247/380: V-PLTR\n",
      "248/380: NFLX-NVDA\n",
      "249/380: NFLX-MSFT\n",
      "250/380: NFLX-AAPL\n",
      "251/380: NFLX-AMZN\n",
      "252/380: NFLX-META\n",
      "253/380: NFLX-AVGO\n",
      "254/380: NFLX-GOOGL\n",
      "255/380: NFLX-TSLA\n",
      "256/380: NFLX-GOOG\n",
      "257/380: NFLX-BRK-B\n",
      "258/380: NFLX-JPM\n",
      "259/380: NFLX-LLY\n",
      "260/380: NFLX-V\n",
      "261/380: NFLX-XOM\n",
      "262/380: NFLX-MA\n",
      "263/380: NFLX-ORCL\n",
      "264/380: NFLX-WMT\n",
      "265/380: NFLX-JNJ\n",
      "266/380: NFLX-PLTR\n",
      "267/380: XOM-NVDA\n",
      "268/380: XOM-MSFT\n",
      "269/380: XOM-AAPL\n",
      "270/380: XOM-AMZN\n",
      "271/380: XOM-META\n",
      "272/380: XOM-AVGO\n",
      "273/380: XOM-GOOGL\n",
      "274/380: XOM-TSLA\n",
      "275/380: XOM-GOOG\n",
      "276/380: XOM-BRK-B\n",
      "277/380: XOM-JPM\n",
      "278/380: XOM-LLY\n",
      "279/380: XOM-V\n",
      "280/380: XOM-NFLX\n",
      "281/380: XOM-MA\n",
      "282/380: XOM-ORCL\n",
      "283/380: XOM-WMT\n",
      "284/380: XOM-JNJ\n",
      "285/380: XOM-PLTR\n",
      "286/380: MA-NVDA\n",
      "287/380: MA-MSFT\n",
      "288/380: MA-AAPL\n",
      "289/380: MA-AMZN\n",
      "290/380: MA-META\n",
      "291/380: MA-AVGO\n",
      "292/380: MA-GOOGL\n",
      "293/380: MA-TSLA\n",
      "294/380: MA-GOOG\n",
      "295/380: MA-BRK-B\n",
      "296/380: MA-JPM\n",
      "297/380: MA-LLY\n",
      "298/380: MA-V\n",
      "299/380: MA-NFLX\n",
      "300/380: MA-XOM\n",
      "301/380: MA-ORCL\n",
      "302/380: MA-WMT\n",
      "303/380: MA-JNJ\n",
      "304/380: MA-PLTR\n",
      "305/380: ORCL-NVDA\n",
      "306/380: ORCL-MSFT\n",
      "307/380: ORCL-AAPL\n",
      "308/380: ORCL-AMZN\n",
      "309/380: ORCL-META\n",
      "310/380: ORCL-AVGO\n",
      "311/380: ORCL-GOOGL\n",
      "312/380: ORCL-TSLA\n",
      "313/380: ORCL-GOOG\n",
      "314/380: ORCL-BRK-B\n",
      "315/380: ORCL-JPM\n",
      "316/380: ORCL-LLY\n",
      "317/380: ORCL-V\n",
      "318/380: ORCL-NFLX\n",
      "319/380: ORCL-XOM\n",
      "320/380: ORCL-MA\n",
      "321/380: ORCL-WMT\n",
      "322/380: ORCL-JNJ\n",
      "323/380: ORCL-PLTR\n",
      "324/380: WMT-NVDA\n",
      "325/380: WMT-MSFT\n",
      "326/380: WMT-AAPL\n",
      "327/380: WMT-AMZN\n",
      "328/380: WMT-META\n",
      "329/380: WMT-AVGO\n",
      "330/380: WMT-GOOGL\n",
      "331/380: WMT-TSLA\n",
      "332/380: WMT-GOOG\n",
      "333/380: WMT-BRK-B\n",
      "334/380: WMT-JPM\n",
      "335/380: WMT-LLY\n",
      "336/380: WMT-V\n",
      "337/380: WMT-NFLX\n",
      "338/380: WMT-XOM\n",
      "339/380: WMT-MA\n",
      "340/380: WMT-ORCL\n",
      "341/380: WMT-JNJ\n",
      "342/380: WMT-PLTR\n",
      "343/380: JNJ-NVDA\n",
      "344/380: JNJ-MSFT\n",
      "345/380: JNJ-AAPL\n",
      "346/380: JNJ-AMZN\n",
      "347/380: JNJ-META\n",
      "348/380: JNJ-AVGO\n",
      "349/380: JNJ-GOOGL\n",
      "350/380: JNJ-TSLA\n",
      "351/380: JNJ-GOOG\n",
      "352/380: JNJ-BRK-B\n",
      "353/380: JNJ-JPM\n",
      "354/380: JNJ-LLY\n",
      "355/380: JNJ-V\n",
      "356/380: JNJ-NFLX\n",
      "357/380: JNJ-XOM\n",
      "358/380: JNJ-MA\n",
      "359/380: JNJ-ORCL\n",
      "360/380: JNJ-WMT\n",
      "361/380: JNJ-PLTR\n",
      "362/380: PLTR-NVDA\n",
      "363/380: PLTR-MSFT\n",
      "364/380: PLTR-AAPL\n",
      "365/380: PLTR-AMZN\n",
      "366/380: PLTR-META\n",
      "367/380: PLTR-AVGO\n",
      "368/380: PLTR-GOOGL\n",
      "369/380: PLTR-TSLA\n",
      "370/380: PLTR-GOOG\n",
      "371/380: PLTR-BRK-B\n",
      "372/380: PLTR-JPM\n",
      "373/380: PLTR-LLY\n",
      "374/380: PLTR-V\n",
      "375/380: PLTR-NFLX\n",
      "376/380: PLTR-XOM\n",
      "377/380: PLTR-MA\n",
      "378/380: PLTR-ORCL\n",
      "379/380: PLTR-WMT\n",
      "380/380: PLTR-JNJ\n",
      "Completed!\n"
     ]
    }
   ],
   "source": [
    "data = yf.download(Tickers[0:N], period='1y', interval='1h')['Close'].dropna()\n",
    "logPrice = np.log(data)#  - np.log(data.iloc[0])\n",
    "# Kalman.SpreadFit()\n",
    "\n",
    "\n",
    "# plt.figure(figsize=(10,6))\n",
    "# for ticker in Tickers[0:N]:\n",
    "#     plt.plot(logPrice[ticker], label=ticker)\n",
    "# # plt.legend()\n",
    "# plt.title('Log Prices')\n",
    "# plt.show()\n",
    "\n",
    "max_plot_N = 3\n",
    "AssumeSymmetry = False\n",
    "\n",
    "\n",
    "pairs = [Tickers[i] + '-' + Tickers[j] for i in range(N) for j in range(i+1, N)]\n",
    "#startDay = logPrice.index[0]\n",
    "#period = dt.timedelta(days=60)\n",
    "#delta = dt.timedelta(days=60)\n",
    "#dates = startDay + period + np.arange(0, (logPrice.index[-1] - logPrice.index[0]) / delta) * delta\n",
    "\n",
    "# score = pd.DataFrame(index=dates, columns=pairs)\n",
    "# pvalue = pd.DataFrame(index=dates, columns=pairs)\n",
    "\n",
    "\n",
    "\n",
    "\n",
    "print(\"Processing cointegration tests...\")\n",
    "if AssumeSymmetry:\n",
    "    score = pd.Series(index=pairs)\n",
    "    pvalue = pd.Series(index=pairs)\n",
    "    for c, (i, j) in enumerate([(i, j) for i in range(N) for j in range(i+1, N)], start=1):\n",
    "        pair = Tickers[i] + '-' + Tickers[j]\n",
    "        score[pair], pvalue[pair], _ = coint(logPrice[Tickers[i]], logPrice[Tickers[j]])\n",
    "        print(f\"{c}/{len(pairs)}: {pair}\")\n",
    "else:\n",
    "    score = pd.DataFrame(index=Tickers[0:N], columns=Tickers[0:N])\n",
    "    pvalue = pd.DataFrame(index=Tickers[0:N], columns=Tickers[0:N])\n",
    "    variance = pd.DataFrame(index=Tickers[0:N], columns=Tickers[0:N])\n",
    "    for c, (i, j) in enumerate([(i, j) for i in range(N) for j in range(N) if i != j], start=1):\n",
    "        pair = Tickers[i] + '-' + Tickers[j]\n",
    "        score.loc[Tickers[i], Tickers[j]], pvalue.loc[Tickers[i], Tickers[j]], _ = coint(logPrice[Tickers[i]], logPrice[Tickers[j]])\n",
    "        model = OLS(logPrice[Tickers[i]], add_constant(logPrice[Tickers[j]])).fit()\n",
    "        variance.loc[Tickers[i], Tickers[j]] = np.var(model.resid)\n",
    "        print(f\"{c}/{2*len(pairs)}: {pair}\")\n",
    "print(\"Completed!\")"
   ]
  },
  {
   "cell_type": "code",
   "execution_count": 68,
   "id": "05cb81fc",
   "metadata": {},
   "outputs": [],
   "source": [
    "\n",
    "# if N<=max_plot_N:\n",
    "#     num_pairs = N * (N - 1) // 2\n",
    "#     dim = N-1\n",
    "#     LogPriceFig, logprice_axes = plt.subplots(dim, dim, figsize=(12, 8))\n",
    "#     SpreadFig, spread_axes = plt.subplots(dim, dim, figsize=(12, 8))\n",
    "#     HedgeFig, hedge_axes = plt.subplots(dim, dim, figsize=(12, 8))\n",
    "#     InterceptFig, intercept_axes = plt.subplots(dim, dim, figsize=(12, 8))\n",
    "#     scoreFig, score_axes = plt.subplots(dim, dim, figsize=(12, 8))\n",
    "#     pvalueFig, pvalue_axes = plt.subplots(dim, dim, figsize=(12, 8))\n",
    "#     print(\"--------\")\n",
    "#     for i in range(N):\n",
    "#         for j in range(i+1, N):\n",
    "#             print(i,j)\n",
    "#             c = (i * (2 * N - i - 1)) // 2 + (j - i)\n",
    "#             print(f'{c/num_pairs:.2%} ({c}/{num_pairs})    Processing pair: {Tickers[i]} & {Tickers[j]}')\n",
    "#             # Spread, theta = Kalman.SpreadFit(logPrice[columns[i]], logPrice[columns[j]])\n",
    "# \n",
    "#             pair = Tickers[i] + '-' + Tickers[j]\n",
    "#             if N<=max_plot_N:\n",
    "#                 # score[pair], pvalue[pair], coint_list[pair] = Cointegration.rolling_coint_test(logPrice[columns[i]], logPrice[columns[j]], period=period, delta=delta)\n",
    "#                 score[pair], pvalue[pair], _ = coint(logPrice[Tickers[i]], logPrice[Tickers[j]])\n",
    "#             else:\n",
    "#                 # _, _, coint_list[pair] = Cointegration.rolling_coint_test(logPrice[columns[i]], logPrice[columns[j]], period=period, delta=delta)\n",
    "#                 score[pair], pvalue[pair], _ = coint(logPrice[Tickers[i]], logPrice[Tickers[j]])\n",
    "#             print(f\"Done With {pair}.  Coint Score: {score[pair]:.4f}, P-Value: {pvalue[pair]:.4f}\")\n",
    "#             if N <= max_plot_N:\n",
    "#                 score_axes[i,j-1].plot(score[pair])\n",
    "#                 score_axes[i,j-1].set_title(f'Coint Score: {Tickers[i]} & {Tickers[j]}')\n",
    "#                 score_axes[i,j-1].axhline(y=-3.9, color='r', linestyle='-', label='Critical Values')\n",
    "#                 score_axes[i,j-1].axhline(y=-3.3, color='r', linestyle='-')\n",
    "#                 score_axes[i,j-1].axhline(y=-3.0, color='r', linestyle='-')\n",
    "# \n",
    "#                 pvalue_axes[i,j-1].plot(pvalue[pair])\n",
    "#                 pvalue_axes[i,j-1].set_title(f'Coint P-Value: {Tickers[i]} & {Tickers[j]}')\n",
    "#                 pvalue_axes[i,j-1].axhline(y=0.05, color='r', linestyle='--', label='Thresholds')\n",
    "#                 pvalue_axes[i,j-1].axhline(y=0.01, color='r', linestyle='--')\n",
    "#                 pvalue_axes[i,j-1].axhline(y=0.10, color='r', linestyle='--')\n",
    "# \n",
    "#                 logprice_axes[i,j-1].scatter(logPrice[columns[i]].values, logPrice[columns[j]].values, c='k', s=1, label='y=x')\n",
    "#                 logprice_axes[i,j-1].set_title(f'Log Prices: {Tickers[i]} & {Tickers[j]}')\n",
    "#                 logprice_axes[i,j-1].legend()\n",
    "# \n",
    "#                 spread_axes[i,j-1].plot(Spread)\n",
    "#                 spread_axes[i,j-1].set_title(f'Spread: {Tickers[i]} - {Tickers[j]}')\n",
    "# \n",
    "#                 hedge_axes[i,j-1].plot(theta['Hedge Ratio'])\n",
    "#                 # hedge_axes[i,j-1].plot(HR, linestyle='--', color='orange', label='Rolling HR (20)')\n",
    "#                 # hedge_axes[i,j-1].legend()\n",
    "#                 hedge_axes[i,j-1].set_title(f'Hedge Ratio: {Tickers[i]} - {Tickers[j]}')\n",
    "# \n",
    "#                 intercept_axes[i,j-1].plot(theta['Intercept'])\n",
    "#                 # intercept_axes[i,j-1].plot(I, linestyle='--', color='orange', label='Rolling Intercept (20)')\n",
    "#                 # intercept_axes[i,j-1].legend()\n",
    "#                 intercept_axes[i,j-1].set_title(f'Intercept: {Tickers[i]} - {Tickers[j]}')\n",
    "#             print(i,j)\n",
    "# \n",
    "# \n",
    "#     if N <= max_plot_N:\n",
    "#         LogPriceFig.tight_layout()\n",
    "#         SpreadFig.tight_layout()\n",
    "#         HedgeFig.tight_layout()\n",
    "#         InterceptFig.tight_layout()\n",
    "#         scoreFig.tight_layout()\n",
    "#         pvalueFig.tight_layout()\n",
    "# \n",
    "# # plt.figure(figsize=(15,14))\n",
    "# # sns.heatmap(Coint_percentage, xticklabels=Tickers[0:N], yticklabels=Tickers[0:N], annot=True, fmt=\".2%\", cmap='coolwarm')\n",
    "# # plt.title('Cointegration Percentage')\n",
    "# # plt.show()\n",
    "# \n",
    "# # plt.figure(figsize=(15,14))\n",
    "# # sns.heatmap(logPrice.corr(), xticklabels=Tickers[0:N], yticklabels=Tickers[0:N], annot=True, fmt=\".2f\", cmap='coolwarm')\n",
    "# # plt.title('Log Price Correlation')\n",
    "# # plt.show()"
   ]
  },
  {
   "cell_type": "code",
   "execution_count": 69,
   "id": "9bbbfb45",
   "metadata": {},
   "outputs": [],
   "source": [
    "correlation = logPrice.corr()\n",
    "correlation = pd.DataFrame(correlation, index=Tickers[0:N], columns=Tickers[0:N])\n",
    "SpreadScore = variance / abs(correlation)"
   ]
  },
  {
   "cell_type": "code",
   "execution_count": 70,
   "id": "97313e2d",
   "metadata": {},
   "outputs": [
    {
     "name": "stdout",
     "output_type": "stream",
     "text": [
      "Anti-Symmetry Score: 26.3571%\n"
     ]
    },
    {
     "name": "stderr",
     "output_type": "stream",
     "text": [
      "C:\\Users\\adamd\\AppData\\Local\\Temp\\ipykernel_37292\\1254294616.py:1: FutureWarning: Downcasting object dtype arrays on .fillna, .ffill, .bfill is deprecated and will change in a future version. Call result.infer_objects(copy=False) instead. To opt-in to the future behavior, set `pd.set_option('future.no_silent_downcasting', True)`\n",
      "  AntiSymmetry_score = np.linalg.norm(score.fillna(0).to_numpy()/2 - score.fillna(0).T.to_numpy()/2) / np.linalg.norm(score.fillna(0).to_numpy())\n",
      "C:\\Users\\adamd\\AppData\\Local\\Temp\\ipykernel_37292\\1254294616.py:1: FutureWarning: Downcasting object dtype arrays on .fillna, .ffill, .bfill is deprecated and will change in a future version. Call result.infer_objects(copy=False) instead. To opt-in to the future behavior, set `pd.set_option('future.no_silent_downcasting', True)`\n",
      "  AntiSymmetry_score = np.linalg.norm(score.fillna(0).to_numpy()/2 - score.fillna(0).T.to_numpy()/2) / np.linalg.norm(score.fillna(0).to_numpy())\n"
     ]
    }
   ],
   "source": [
    "AntiSymmetry_score = np.linalg.norm(score.fillna(0).to_numpy()/2 - score.fillna(0).T.to_numpy()/2) / np.linalg.norm(score.fillna(0).to_numpy())\n",
    "print(f\"Anti-Symmetry Score: {AntiSymmetry_score:.4%}\")"
   ]
  },
  {
   "cell_type": "code",
   "execution_count": 71,
   "id": "517538eb",
   "metadata": {},
   "outputs": [
    {
     "data": {
      "application/vnd.microsoft.datawrangler.viewer.v0+json": {
       "columns": [
        {
         "name": "index",
         "rawType": "object",
         "type": "string"
        },
        {
         "name": "0",
         "rawType": "object",
         "type": "unknown"
        }
       ],
       "ref": "ad52af55-1da0-451b-8c9e-aeb9950057d2",
       "rows": [
        [
         "XOM-V",
         "0.006785451216682574"
        ],
        [
         "NVDA-ORCL",
         "0.010409207986076112"
        ],
        [
         "MA-PLTR",
         "0.010812320920013083"
        ],
        [
         "JPM-META",
         "0.012433809722218955"
        ],
        [
         "ORCL-NVDA",
         "0.014799543317155191"
        ],
        [
         "META-JPM",
         "0.015349431834964039"
        ],
        [
         "JPM-AVGO",
         "0.01648592565363645"
        ],
        [
         "XOM-MA",
         "0.016566340021996508"
        ],
        [
         "XOM-WMT",
         "0.02076498592795995"
        ],
        [
         "MA-AVGO",
         "0.027017575871078604"
        ],
        [
         "JPM-ORCL",
         "0.031155446618577103"
        ],
        [
         "MA-META",
         "0.03436970251750428"
        ],
        [
         "MA-WMT",
         "0.039521549728218176"
        ],
        [
         "MA-NFLX",
         "0.04048868386595257"
        ],
        [
         "AVGO-JPM",
         "0.04851294506922201"
        ],
        [
         "LLY-MSFT",
         "0.06112849662405751"
        ],
        [
         "XOM-BRK-B",
         "0.061721800141353776"
        ],
        [
         "NFLX-PLTR",
         "0.06290862684023754"
        ],
        [
         "XOM-AAPL",
         "0.06441352076843923"
        ],
        [
         "XOM-ORCL",
         "0.0666734181517766"
        ],
        [
         "PLTR-MA",
         "0.06859245793894203"
        ],
        [
         "XOM-NVDA",
         "0.0689020160112997"
        ],
        [
         "WMT-MA",
         "0.06974183883364099"
        ],
        [
         "WMT-AVGO",
         "0.07022102564089383"
        ],
        [
         "WMT-META",
         "0.07073852168045289"
        ],
        [
         "XOM-JNJ",
         "0.07305114545560612"
        ],
        [
         "V-NFLX",
         "0.07405855087429676"
        ],
        [
         "V-XOM",
         "0.07419165618099742"
        ],
        [
         "XOM-GOOG",
         "0.07506422024004553"
        ],
        [
         "XOM-GOOGL",
         "0.07521816129694836"
        ],
        [
         "LLY-MA",
         "0.07593860013732907"
        ],
        [
         "PLTR-NFLX",
         "0.08175115040507619"
        ],
        [
         "LLY-META",
         "0.08250484777571548"
        ],
        [
         "LLY-NFLX",
         "0.08645168756271537"
        ],
        [
         "XOM-MSFT",
         "0.08679855007444054"
        ],
        [
         "XOM-AMZN",
         "0.08789930413449376"
        ],
        [
         "XOM-META",
         "0.08868837555426884"
        ],
        [
         "XOM-JPM",
         "0.08929723209433843"
        ],
        [
         "XOM-LLY",
         "0.08991140021698546"
        ],
        [
         "JPM-MSFT",
         "0.09006168679541338"
        ],
        [
         "LLY-AVGO",
         "0.09236578108163424"
        ],
        [
         "XOM-AVGO",
         "0.09310870917660041"
        ],
        [
         "XOM-NFLX",
         "0.09534025967327014"
        ],
        [
         "XOM-PLTR",
         "0.09545426987883199"
        ],
        [
         "LLY-AMZN",
         "0.09644580789260487"
        ],
        [
         "LLY-WMT",
         "0.09834303993523091"
        ],
        [
         "LLY-JPM",
         "0.09886596068393011"
        ],
        [
         "LLY-TSLA",
         "0.0989295850861946"
        ],
        [
         "LLY-NVDA",
         "0.0995469056174828"
        ],
        [
         "LLY-ORCL",
         "0.09967073029277607"
        ]
       ],
       "shape": {
        "columns": 1,
        "rows": 380
       }
      },
      "text/plain": [
       "XOM-V        0.006785\n",
       "NVDA-ORCL    0.010409\n",
       "MA-PLTR      0.010812\n",
       "JPM-META     0.012434\n",
       "ORCL-NVDA      0.0148\n",
       "               ...   \n",
       "JNJ-AAPL     0.983126\n",
       "JNJ-AMZN     0.985132\n",
       "JNJ-LLY      0.985939\n",
       "JNJ-V        0.987977\n",
       "JNJ-TSLA     0.988165\n",
       "Length: 380, dtype: object"
      ]
     },
     "execution_count": 71,
     "metadata": {},
     "output_type": "execute_result"
    }
   ],
   "source": [
    "# coint_list = coint_list.sort_values(ascending=False)\n",
    "# coint_list\n",
    "pvalue = pvalue.stack()\n",
    "pvalue.index = pvalue.index.map(lambda x: x[0] + '-' + x[1])\n",
    "pvalue = pvalue.sort_values()\n",
    "pvalue\n",
    "\n",
    "\n"
   ]
  },
  {
   "cell_type": "code",
   "execution_count": 72,
   "id": "93f33ee9",
   "metadata": {},
   "outputs": [
    {
     "data": {
      "application/vnd.microsoft.datawrangler.viewer.v0+json": {
       "columns": [
        {
         "name": "index",
         "rawType": "object",
         "type": "string"
        },
        {
         "name": "0",
         "rawType": "object",
         "type": "unknown"
        }
       ],
       "ref": "6cc29e49-2e5c-4653-8a4a-ce96eda6430a",
       "rows": [
        [
         "XOM-V",
         "-4.017223893174614"
        ],
        [
         "NVDA-ORCL",
         "-3.88478982123348"
        ],
        [
         "MA-PLTR",
         "-3.8727440041646513"
        ],
        [
         "JPM-META",
         "-3.82801119722076"
        ],
        [
         "ORCL-NVDA",
         "-3.7712545550468586"
        ],
        [
         "META-JPM",
         "-3.7592198679173263"
        ],
        [
         "JPM-AVGO",
         "-3.7355042257021807"
        ],
        [
         "XOM-MA",
         "-3.7338811771098706"
        ],
        [
         "XOM-WMT",
         "-3.657437125562186"
        ],
        [
         "MA-AVGO",
         "-3.565454228115343"
        ],
        [
         "JPM-ORCL",
         "-3.5142202190888883"
        ],
        [
         "MA-META",
         "-3.478283245075896"
        ],
        [
         "MA-WMT",
         "-3.4262106710951894"
        ],
        [
         "MA-NFLX",
         "-3.4170784016314024"
        ],
        [
         "AVGO-JPM",
         "-3.3476000924467377"
        ],
        [
         "LLY-MSFT",
         "-3.2554852911644567"
        ],
        [
         "XOM-BRK-B",
         "-3.2515488605481906"
        ],
        [
         "NFLX-PLTR",
         "-3.2437652584938577"
        ],
        [
         "XOM-AAPL",
         "-3.2340638986262698"
        ],
        [
         "XOM-ORCL",
         "-3.2198317816542086"
        ],
        [
         "PLTR-MA",
         "-3.2080463859056123"
        ],
        [
         "XOM-NVDA",
         "-3.2061700342889625"
        ],
        [
         "WMT-MA",
         "-3.20111317864085"
        ],
        [
         "WMT-AVGO",
         "-3.1982495320433237"
        ],
        [
         "WMT-META",
         "-3.195174360318286"
        ],
        [
         "XOM-JNJ",
         "-3.181646335063351"
        ],
        [
         "V-NFLX",
         "-3.1758593464643883"
        ],
        [
         "V-XOM",
         "-3.1750993965965972"
        ],
        [
         "XOM-GOOG",
         "-3.170144102484529"
        ],
        [
         "XOM-GOOGL",
         "-3.169274598141741"
        ],
        [
         "LLY-MA",
         "-3.1652239161025313"
        ],
        [
         "PLTR-NFLX",
         "-3.1336024804975904"
        ],
        [
         "LLY-META",
         "-3.1296324312975776"
        ],
        [
         "LLY-NFLX",
         "-3.109292246553517"
        ],
        [
         "XOM-MSFT",
         "-3.107539412639938"
        ],
        [
         "XOM-AMZN",
         "-3.102012562838411"
        ],
        [
         "XOM-META",
         "-3.0980835275348118"
        ],
        [
         "XOM-JPM",
         "-3.0950702616095653"
        ],
        [
         "XOM-LLY",
         "-3.0920467336323068"
        ],
        [
         "JPM-MSFT",
         "-3.0913093052754386"
        ],
        [
         "LLY-AVGO",
         "-3.0801204620005747"
        ],
        [
         "XOM-AVGO",
         "-3.0765585205615267"
        ],
        [
         "XOM-NFLX",
         "-3.065988846647031"
        ],
        [
         "XOM-PLTR",
         "-3.0654539460554013"
        ],
        [
         "LLY-AMZN",
         "-3.060822419646992"
        ],
        [
         "LLY-WMT",
         "-3.0520606471748555"
        ],
        [
         "LLY-JPM",
         "-3.0496683475161346"
        ],
        [
         "LLY-TSLA",
         "-3.049377930554054"
        ],
        [
         "LLY-NVDA",
         "-3.046567481842787"
        ],
        [
         "LLY-ORCL",
         "-3.0460053455013325"
        ]
       ],
       "shape": {
        "columns": 1,
        "rows": 380
       }
      },
      "text/plain": [
       "XOM-V       -4.017224\n",
       "NVDA-ORCL    -3.88479\n",
       "MA-PLTR     -3.872744\n",
       "JPM-META    -3.828011\n",
       "ORCL-NVDA   -3.771255\n",
       "               ...   \n",
       "JNJ-AAPL    -0.105482\n",
       "JNJ-AMZN    -0.031876\n",
       "JNJ-LLY      0.001675\n",
       "JNJ-V        0.100283\n",
       "JNJ-TSLA     0.110655\n",
       "Length: 380, dtype: object"
      ]
     },
     "execution_count": 72,
     "metadata": {},
     "output_type": "execute_result"
    }
   ],
   "source": [
    "score = score.stack()\n",
    "score.index = score.index.map(lambda x: x[0] + '-' + x[1])\n",
    "score = score.sort_values()\n",
    "score"
   ]
  },
  {
   "cell_type": "code",
   "execution_count": 73,
   "id": "df261224",
   "metadata": {},
   "outputs": [
    {
     "data": {
      "application/vnd.microsoft.datawrangler.viewer.v0+json": {
       "columns": [
        {
         "name": "index",
         "rawType": "object",
         "type": "string"
        },
        {
         "name": "0",
         "rawType": "object",
         "type": "unknown"
        }
       ],
       "ref": "b54948ac-e0cb-4112-a9bb-381f4088fb70",
       "rows": [
        [
         "GOOG-GOOGL",
         "3.7055640068678295e-06"
        ],
        [
         "GOOGL-GOOG",
         "3.8723610862841e-06"
        ],
        [
         "MA-JPM",
         "0.0007425854296082029"
        ],
        [
         "MA-NFLX",
         "0.0007494183444460845"
        ],
        [
         "MA-PLTR",
         "0.0007676604539531461"
        ],
        [
         "MA-V",
         "0.0007941656425761647"
        ],
        [
         "MA-META",
         "0.0008522272705675725"
        ],
        [
         "MA-WMT",
         "0.000920887836747943"
        ],
        [
         "MA-AVGO",
         "0.0010990520351483416"
        ],
        [
         "V-NFLX",
         "0.0012608647390808794"
        ],
        [
         "WMT-PLTR",
         "0.0013879201444450208"
        ],
        [
         "MA-MSFT",
         "0.001409305976709847"
        ],
        [
         "V-MA",
         "0.001410851844065848"
        ],
        [
         "BRK-B-V",
         "0.0014762503824598035"
        ],
        [
         "V-PLTR",
         "0.0014939516165334197"
        ],
        [
         "WMT-JPM",
         "0.0015391318134622576"
        ],
        [
         "XOM-V",
         "0.0015434298469563566"
        ],
        [
         "XOM-WMT",
         "0.0015908820792962088"
        ],
        [
         "WMT-NFLX",
         "0.0016162903929057741"
        ],
        [
         "XOM-NFLX",
         "0.0017062907937348314"
        ],
        [
         "MA-ORCL",
         "0.001724238691846228"
        ],
        [
         "WMT-MA",
         "0.001741236628928266"
        ],
        [
         "XOM-PLTR",
         "0.0017482605345336623"
        ],
        [
         "MA-AMZN",
         "0.0017607392205833282"
        ],
        [
         "MA-JNJ",
         "0.0018095381332215452"
        ],
        [
         "MA-NVDA",
         "0.0018263518415958164"
        ],
        [
         "XOM-AAPL",
         "0.0018318411635063808"
        ],
        [
         "BRK-B-AAPL",
         "0.0018386119325414468"
        ],
        [
         "XOM-LLY",
         "0.0018405434376314493"
        ],
        [
         "BRK-B-AMZN",
         "0.0018426497099648833"
        ],
        [
         "MA-GOOGL",
         "0.0018455351347570655"
        ],
        [
         "BRK-B-NFLX",
         "0.001846643740078"
        ],
        [
         "MA-GOOG",
         "0.001856547620383201"
        ],
        [
         "MSFT-NVDA",
         "0.0018576852805800288"
        ],
        [
         "BRK-B-PLTR",
         "0.001860675465290449"
        ],
        [
         "JPM-META",
         "0.0019189283411293514"
        ],
        [
         "JPM-AVGO",
         "0.0019347920011833864"
        ],
        [
         "BRK-B-NVDA",
         "0.0019464581270553748"
        ],
        [
         "BRK-B-MA",
         "0.0019480132471833766"
        ],
        [
         "XOM-MA",
         "0.0019523971289918435"
        ],
        [
         "BRK-B-TSLA",
         "0.001984330135864548"
        ],
        [
         "XOM-BRK-B",
         "0.001996216563441948"
        ],
        [
         "XOM-ORCL",
         "0.0019997588436916555"
        ],
        [
         "XOM-JNJ",
         "0.002005262890086768"
        ],
        [
         "XOM-AVGO",
         "0.0020057319356050164"
        ],
        [
         "XOM-NVDA",
         "0.002025172919108546"
        ],
        [
         "BRK-B-JNJ",
         "0.0020465333786474087"
        ],
        [
         "XOM-TSLA",
         "0.0020663718547683347"
        ],
        [
         "V-WMT",
         "0.002072667331642758"
        ],
        [
         "XOM-JPM",
         "0.002076993452280802"
        ]
       ],
       "shape": {
        "columns": 1,
        "rows": 380
       }
      },
      "text/plain": [
       "GOOG-GOOGL    0.000004\n",
       "GOOGL-GOOG    0.000004\n",
       "MA-JPM        0.000743\n",
       "MA-NFLX       0.000749\n",
       "MA-PLTR       0.000768\n",
       "                ...   \n",
       "PLTR-AMZN     0.135435\n",
       "PLTR-XOM      0.142387\n",
       "PLTR-BRK-B    0.145086\n",
       "PLTR-TSLA     0.149207\n",
       "PLTR-AAPL     0.168206\n",
       "Length: 380, dtype: object"
      ]
     },
     "execution_count": 73,
     "metadata": {},
     "output_type": "execute_result"
    }
   ],
   "source": [
    "variance = variance.stack()\n",
    "variance.index = variance.index.map(lambda x: x[0] + '-' + x[1])\n",
    "variance = variance.sort_values()\n",
    "variance"
   ]
  },
  {
   "cell_type": "code",
   "execution_count": 74,
   "id": "2fe128c7",
   "metadata": {},
   "outputs": [
    {
     "data": {
      "application/vnd.microsoft.datawrangler.viewer.v0+json": {
       "columns": [
        {
         "name": "index",
         "rawType": "object",
         "type": "string"
        },
        {
         "name": "0",
         "rawType": "object",
         "type": "unknown"
        }
       ],
       "ref": "c6a0f0ff-1075-432c-8217-a265fd72793f",
       "rows": [
        [
         "GOOG-GOOGL",
         "3.7059891239381087e-06"
        ],
        [
         "GOOGL-GOOG",
         "3.872805338980049e-06"
        ],
        [
         "MA-JPM",
         "0.000885732352620516"
        ],
        [
         "MA-NFLX",
         "0.0008956258786135535"
        ],
        [
         "MA-PLTR",
         "0.0009222464343994772"
        ],
        [
         "MA-V",
         "0.0009614755014729276"
        ],
        [
         "MA-META",
         "0.001049796603039944"
        ],
        [
         "MA-WMT",
         "0.001158783386074252"
        ],
        [
         "MA-AVGO",
         "0.001468318656095686"
        ],
        [
         "V-NFLX",
         "0.0014900539430632803"
        ],
        [
         "WMT-PLTR",
         "0.0016514504790488959"
        ],
        [
         "V-MA",
         "0.0017080813013729947"
        ],
        [
         "V-PLTR",
         "0.0018340180983335802"
        ],
        [
         "WMT-JPM",
         "0.001874319477454606"
        ],
        [
         "WMT-NFLX",
         "0.0019925515027203063"
        ],
        [
         "MSFT-NVDA",
         "0.002029237578860006"
        ],
        [
         "JPM-META",
         "0.002121536770808486"
        ],
        [
         "MA-MSFT",
         "0.00213400168462667"
        ],
        [
         "JPM-AVGO",
         "0.002141043772377249"
        ],
        [
         "WMT-MA",
         "0.002191055192944505"
        ],
        [
         "BRK-B-V",
         "0.002569237328346816"
        ],
        [
         "JPM-PLTR",
         "0.0026424431856490018"
        ],
        [
         "NFLX-PLTR",
         "0.002673473323424487"
        ],
        [
         "MSFT-ORCL",
         "0.0026955508733928586"
        ],
        [
         "META-JPM",
         "0.002714567951145679"
        ],
        [
         "V-WMT",
         "0.0028384662598723892"
        ],
        [
         "WMT-AVGO",
         "0.0028675448124245544"
        ],
        [
         "WMT-META",
         "0.002888021116359528"
        ],
        [
         "XOM-V",
         "0.002978607422631663"
        ],
        [
         "WMT-V",
         "0.0030210956694453235"
        ],
        [
         "MA-ORCL",
         "0.0030961739481002704"
        ],
        [
         "MSFT-AVGO",
         "0.003109937649542158"
        ],
        [
         "XOM-WMT",
         "0.003207448534001959"
        ],
        [
         "MA-AMZN",
         "0.003238895724858419"
        ],
        [
         "META-AVGO",
         "0.003305854386470813"
        ],
        [
         "AMZN-META",
         "0.0033729121537453004"
        ],
        [
         "AMZN-TSLA",
         "0.003406186478218699"
        ],
        [
         "MA-JNJ",
         "0.0034443856975065264"
        ],
        [
         "MA-NVDA",
         "0.003519546709062808"
        ],
        [
         "NVDA-ORCL",
         "0.0035392054665260024"
        ],
        [
         "MA-GOOGL",
         "0.0036083110918977593"
        ],
        [
         "MA-GOOG",
         "0.0036608025251926744"
        ],
        [
         "JPM-MA",
         "0.003738894951314989"
        ],
        [
         "JNJ-ORCL",
         "0.003745442413245337"
        ],
        [
         "JPM-NFLX",
         "0.003773406029799429"
        ],
        [
         "V-JPM",
         "0.0037748915235508"
        ],
        [
         "JPM-MSFT",
         "0.0037875307804435833"
        ],
        [
         "AMZN-GOOGL",
         "0.0038884716705725035"
        ],
        [
         "XOM-NFLX",
         "0.0039010233831317078"
        ],
        [
         "AMZN-GOOG",
         "0.003939958766415069"
        ]
       ],
       "shape": {
        "columns": 1,
        "rows": 380
       }
      },
      "text/plain": [
       "GOOG-GOOGL    0.000004\n",
       "GOOGL-GOOG    0.000004\n",
       "MA-JPM        0.000886\n",
       "MA-NFLX       0.000896\n",
       "MA-PLTR       0.000922\n",
       "                ...   \n",
       "BRK-B-LLY     0.898603\n",
       "TSLA-JNJ      1.118267\n",
       "PLTR-AAPL     1.155934\n",
       "AVGO-BRK-B    2.012078\n",
       "LLY-BRK-B     2.344869\n",
       "Length: 380, dtype: object"
      ]
     },
     "execution_count": 74,
     "metadata": {},
     "output_type": "execute_result"
    }
   ],
   "source": [
    "SpreadScore = SpreadScore.stack()\n",
    "SpreadScore.index = SpreadScore.index.map(lambda x: x[0] + '-' + x[1])\n",
    "SpreadScore = SpreadScore.sort_values()\n",
    "SpreadScore"
   ]
  },
  {
   "cell_type": "code",
   "execution_count": 75,
   "id": "36368239",
   "metadata": {},
   "outputs": [
    {
     "data": {
      "application/vnd.microsoft.datawrangler.viewer.v0+json": {
       "columns": [
        {
         "name": "index",
         "rawType": "int64",
         "type": "integer"
        },
        {
         "name": "Ticker1",
         "rawType": "object",
         "type": "string"
        },
        {
         "name": "Ticker2",
         "rawType": "object",
         "type": "string"
        },
        {
         "name": "Correlation",
         "rawType": "float64",
         "type": "float"
        }
       ],
       "ref": "cffa7f3e-d277-4794-b82b-47693db1c748",
       "rows": [
        [
         "0",
         "META",
         "AVGO",
         "0.9998852891748836"
        ],
        [
         "1",
         "V",
         "MA",
         "0.9533571552264049"
        ],
        [
         "2",
         "NFLX",
         "XOM",
         "0.9403006656449985"
        ],
        [
         "3",
         "LLY",
         "NFLX",
         "0.9154597273048961"
        ],
        [
         "4",
         "TSLA",
         "JPM",
         "0.9044992137459283"
        ],
        [
         "5",
         "AAPL",
         "TSLA",
         "0.9036676532003562"
        ],
        [
         "6",
         "LLY",
         "XOM",
         "0.8893927958479697"
        ],
        [
         "7",
         "AAPL",
         "JPM",
         "0.88502560429707"
        ],
        [
         "8",
         "TSLA",
         "MA",
         "0.8825817142898563"
        ],
        [
         "9",
         "AAPL",
         "LLY",
         "0.8735986800298339"
        ],
        [
         "10",
         "V",
         "WMT",
         "0.8461873108357207"
        ],
        [
         "11",
         "MA",
         "JNJ",
         "0.8404249246664377"
        ],
        [
         "12",
         "TSLA",
         "BRK-B",
         "0.8383858029021967"
        ],
        [
         "13",
         "TSLA",
         "V",
         "0.8370369090750053"
        ],
        [
         "14",
         "BRK-B",
         "V",
         "0.8367537856389309"
        ],
        [
         "15",
         "TSLA",
         "LLY",
         "0.8364855675923392"
        ],
        [
         "16",
         "AAPL",
         "MA",
         "0.8324543850408472"
        ],
        [
         "17",
         "BRK-B",
         "MA",
         "0.8323810484049309"
        ],
        [
         "18",
         "JPM",
         "LLY",
         "0.8287041364720455"
        ],
        [
         "19",
         "TSLA",
         "XOM",
         "0.8285070824280196"
        ],
        [
         "20",
         "AAPL",
         "XOM",
         "0.8262398774865931"
        ],
        [
         "21",
         "BRK-B",
         "WMT",
         "0.8259863526002967"
        ],
        [
         "22",
         "TSLA",
         "JNJ",
         "0.821168339749878"
        ],
        [
         "23",
         "MA",
         "WMT",
         "0.8145784482120701"
        ],
        [
         "24",
         "BRK-B",
         "JPM",
         "0.8118022749356771"
        ],
        [
         "25",
         "V",
         "JNJ",
         "0.811166180999163"
        ],
        [
         "26",
         "AAPL",
         "NFLX",
         "0.8072146914047298"
        ],
        [
         "27",
         "AVGO",
         "XOM",
         "0.8066242872346924"
        ],
        [
         "28",
         "AAPL",
         "AVGO",
         "0.8043824668432406"
        ],
        [
         "29",
         "JPM",
         "XOM",
         "0.8040793991487061"
        ],
        [
         "30",
         "META",
         "XOM",
         "0.8009417856445038"
        ],
        [
         "31",
         "AAPL",
         "META",
         "0.7990367151358089"
        ],
        [
         "32",
         "BRK-B",
         "JNJ",
         "0.7947023126278535"
        ],
        [
         "33",
         "MSFT",
         "JPM",
         "0.7831419212153736"
        ],
        [
         "34",
         "MSFT",
         "ORCL",
         "0.7812928594831966"
        ],
        [
         "35",
         "JPM",
         "NFLX",
         "0.7796248392099383"
        ],
        [
         "36",
         "AAPL",
         "V",
         "0.7707981897248881"
        ],
        [
         "37",
         "TSLA",
         "NFLX",
         "0.7688978504700846"
        ],
        [
         "38",
         "JPM",
         "MA",
         "0.768267355890983"
        ],
        [
         "39",
         "AVGO",
         "NFLX",
         "0.7628463443323601"
        ],
        [
         "40",
         "META",
         "NFLX",
         "0.7557030809084034"
        ],
        [
         "41",
         "MSFT",
         "AVGO",
         "0.7550958249793528"
        ],
        [
         "42",
         "MSFT",
         "META",
         "0.7523651548448926"
        ],
        [
         "43",
         "AAPL",
         "BRK-B",
         "0.7485105706350976"
        ],
        [
         "44",
         "AAPL",
         "JNJ",
         "0.7416209742667211"
        ],
        [
         "45",
         "JPM",
         "JNJ",
         "0.7400855754738012"
        ],
        [
         "46",
         "AVGO",
         "TSLA",
         "0.738191531498959"
        ],
        [
         "47",
         "META",
         "TSLA",
         "0.7335047598470986"
        ],
        [
         "48",
         "WMT",
         "JNJ",
         "0.7302067884139444"
        ],
        [
         "49",
         "JPM",
         "V",
         "0.7288538586827356"
        ]
       ],
       "shape": {
        "columns": 3,
        "rows": 190
       }
      },
      "text/html": [
       "<div>\n",
       "<style scoped>\n",
       "    .dataframe tbody tr th:only-of-type {\n",
       "        vertical-align: middle;\n",
       "    }\n",
       "\n",
       "    .dataframe tbody tr th {\n",
       "        vertical-align: top;\n",
       "    }\n",
       "\n",
       "    .dataframe thead th {\n",
       "        text-align: right;\n",
       "    }\n",
       "</style>\n",
       "<table border=\"1\" class=\"dataframe\">\n",
       "  <thead>\n",
       "    <tr style=\"text-align: right;\">\n",
       "      <th></th>\n",
       "      <th>Ticker1</th>\n",
       "      <th>Ticker2</th>\n",
       "      <th>Correlation</th>\n",
       "    </tr>\n",
       "  </thead>\n",
       "  <tbody>\n",
       "    <tr>\n",
       "      <th>0</th>\n",
       "      <td>META</td>\n",
       "      <td>AVGO</td>\n",
       "      <td>0.999885</td>\n",
       "    </tr>\n",
       "    <tr>\n",
       "      <th>1</th>\n",
       "      <td>V</td>\n",
       "      <td>MA</td>\n",
       "      <td>0.953357</td>\n",
       "    </tr>\n",
       "    <tr>\n",
       "      <th>2</th>\n",
       "      <td>NFLX</td>\n",
       "      <td>XOM</td>\n",
       "      <td>0.940301</td>\n",
       "    </tr>\n",
       "    <tr>\n",
       "      <th>3</th>\n",
       "      <td>LLY</td>\n",
       "      <td>NFLX</td>\n",
       "      <td>0.915460</td>\n",
       "    </tr>\n",
       "    <tr>\n",
       "      <th>4</th>\n",
       "      <td>TSLA</td>\n",
       "      <td>JPM</td>\n",
       "      <td>0.904499</td>\n",
       "    </tr>\n",
       "    <tr>\n",
       "      <th>...</th>\n",
       "      <td>...</td>\n",
       "      <td>...</td>\n",
       "      <td>...</td>\n",
       "    </tr>\n",
       "    <tr>\n",
       "      <th>185</th>\n",
       "      <td>GOOG</td>\n",
       "      <td>V</td>\n",
       "      <td>-0.460972</td>\n",
       "    </tr>\n",
       "    <tr>\n",
       "      <th>186</th>\n",
       "      <td>GOOG</td>\n",
       "      <td>MA</td>\n",
       "      <td>-0.479454</td>\n",
       "    </tr>\n",
       "    <tr>\n",
       "      <th>187</th>\n",
       "      <td>GOOG</td>\n",
       "      <td>LLY</td>\n",
       "      <td>-0.484718</td>\n",
       "    </tr>\n",
       "    <tr>\n",
       "      <th>188</th>\n",
       "      <td>JNJ</td>\n",
       "      <td>PLTR</td>\n",
       "      <td>-0.495996</td>\n",
       "    </tr>\n",
       "    <tr>\n",
       "      <th>189</th>\n",
       "      <td>WMT</td>\n",
       "      <td>PLTR</td>\n",
       "      <td>-0.518172</td>\n",
       "    </tr>\n",
       "  </tbody>\n",
       "</table>\n",
       "<p>190 rows × 3 columns</p>\n",
       "</div>"
      ],
      "text/plain": [
       "    Ticker1 Ticker2  Correlation\n",
       "0      META    AVGO     0.999885\n",
       "1         V      MA     0.953357\n",
       "2      NFLX     XOM     0.940301\n",
       "3       LLY    NFLX     0.915460\n",
       "4      TSLA     JPM     0.904499\n",
       "..      ...     ...          ...\n",
       "185    GOOG       V    -0.460972\n",
       "186    GOOG      MA    -0.479454\n",
       "187    GOOG     LLY    -0.484718\n",
       "188     JNJ    PLTR    -0.495996\n",
       "189     WMT    PLTR    -0.518172\n",
       "\n",
       "[190 rows x 3 columns]"
      ]
     },
     "execution_count": 75,
     "metadata": {},
     "output_type": "execute_result"
    }
   ],
   "source": [
    "corr_list = logPrice.corr()\n",
    "corr_list = [(Tickers[i], Tickers[j], corr_list.iloc[i,j]) for i,j in zip(*np.triu_indices(N, k=1))]\n",
    "corr_list = pd.DataFrame(corr_list, columns=['Ticker1', 'Ticker2', 'Correlation'])\n",
    "corr_list = corr_list.sort_values(by='Correlation', ascending=False).reset_index(drop=True)\n",
    "corr_list\n",
    "\n"
   ]
  },
  {
   "cell_type": "code",
   "execution_count": 77,
   "id": "027e25fc",
   "metadata": {},
   "outputs": [
    {
     "name": "stdout",
     "output_type": "stream",
     "text": [
      "                            OLS Regression Results                            \n",
      "==============================================================================\n",
      "Dep. Variable:                     MA   R-squared:                       0.703\n",
      "Model:                            OLS   Adj. R-squared:                  0.703\n",
      "Method:                 Least Squares   F-statistic:                     4107.\n",
      "Date:                Thu, 09 Oct 2025   Prob (F-statistic):               0.00\n",
      "Time:                        17:45:35   Log-Likelihood:                 3795.4\n",
      "No. Observations:                1738   AIC:                            -7587.\n",
      "Df Residuals:                    1736   BIC:                            -7576.\n",
      "Df Model:                           1                                         \n",
      "Covariance Type:            nonrobust                                         \n",
      "==============================================================================\n",
      "                 coef    std err          t      P>|t|      [0.025      0.975]\n",
      "------------------------------------------------------------------------------\n",
      "const          4.0364      0.035    113.861      0.000       3.967       4.106\n",
      "JPM            0.4081      0.006     64.086      0.000       0.396       0.421\n",
      "==============================================================================\n",
      "Omnibus:                       62.603   Durbin-Watson:                   0.023\n",
      "Prob(Omnibus):                  0.000   Jarque-Bera (JB):               46.811\n",
      "Skew:                           0.306   Prob(JB):                     6.84e-11\n",
      "Kurtosis:                       2.479   Cond. No.                         312.\n",
      "==============================================================================\n",
      "\n",
      "Notes:\n",
      "[1] Standard Errors assume that the covariance matrix of the errors is correctly specified.\n",
      "Residual Variance: 0.0007425854296082029\n",
      "Cointegration test for MA & JPM: p-value=0.18858018550904881, t-stat=-2.731137263018561, crit-values=[-3.90275618 -3.33964988 -3.04689258]\n",
      "Cointegration test for MA & JPM: p-value=0.546591748844529, t-stat=-1.965241745786134, crit-values=[-3.90275618 -3.33964988 -3.04689258]\n"
     ]
    },
    {
     "data": {
      "image/png": "[encoded data removed]",
      "text/plain": [
       "<Figure size 1000x600 with 1 Axes>"
      ]
     },
     "metadata": {},
     "output_type": "display_data"
    }
   ],
   "source": [
    "from statsmodels.tsa.stattools import coint\n",
    "from statsmodels.api import OLS, add_constant\n",
    "Pair = 'MA-JPM'\n",
    "tick1, tick2 = Pair.split('-')\n",
    "model = OLS(logPrice[tick1], add_constant(logPrice[tick2])).fit()\n",
    "print(model.summary())\n",
    "print(f\"Residual Variance: {np.var(model.resid)}\")\n",
    "s, p, c = coint(logPrice[tick1], logPrice[tick2])\n",
    "print(f'Cointegration test for {tick1} & {tick2}: p-value={p}, t-stat={s}, crit-values={c}')\n",
    "s, p, c = coint(logPrice[tick2], logPrice[tick1])\n",
    "print(f'Cointegration test for {tick1} & {tick2}: p-value={p}, t-stat={s}, crit-values={c}')\n",
    "\n",
    "plt.subplots(figsize=(10,6))\n",
    "\n",
    "# Primary y-axis for prices\n",
    "plt.plot(logPrice[tick1], label=tick1, color='blue')\n",
    "plt.plot(logPrice[tick2], label=tick2, color='orange')\n",
    "plt.plot(model.fittedvalues, label='Fitted', linestyle='--', color='k')\n",
    "plt.plot(model.resid + np.mean(logPrice[tick1] + logPrice[tick2])/2, label='Residual', linestyle='-', color='gray')\n",
    "plt.xlabel('Time')\n",
    "plt.ylabel('Log Prices', color='black')\n",
    "plt.legend(loc='upper left')\n",
    "\n",
    "plt.title(f'Log Prices: {tick1} & {tick2}')\n",
    "plt.show()"
   ]
  },
  {
   "cell_type": "code",
   "execution_count": null,
   "id": "02815675",
   "metadata": {},
   "outputs": [],
   "source": []
  }
 ],
 "metadata": {
  "kernelspec": {
   "display_name": "Python 3",
   "language": "python",
   "name": "python3"
  },
  "language_info": {
   "codemirror_mode": {
    "name": "ipython",
    "version": 3
   },
   "file_extension": ".py",
   "mimetype": "text/x-python",
   "name": "python",
   "nbconvert_exporter": "python",
   "pygments_lexer": "ipython3",
   "version": "3.13.7"
  }
 },
 "nbformat": 4,
 "nbformat_minor": 5
}
